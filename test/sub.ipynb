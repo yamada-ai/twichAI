{
 "cells": [
  {
   "cell_type": "code",
   "execution_count": 1,
   "metadata": {},
   "outputs": [],
   "source": [
    "\n",
    "import subprocess"
   ]
  },
  {
   "cell_type": "code",
   "execution_count": 4,
   "metadata": {},
   "outputs": [],
   "source": [
    "cmd = \"echo `mecab-config --dicdir`\"\n",
    "cmd = cmd + '\"/mecab-unidic-neologd\"'\n",
    "dict_path = (\n",
    "            subprocess.Popen(cmd, stdout=subprocess.PIPE, shell=True)\n",
    "            .stdout.readline()\n",
    "            .decode()\n",
    "        )"
   ]
  },
  {
   "cell_type": "code",
   "execution_count": 5,
   "metadata": {},
   "outputs": [
    {
     "data": {
      "text/plain": [
       "'/usr/lib/x86_64-linux-gnu/mecab/dic/mecab-unidic-neologd\\n'"
      ]
     },
     "execution_count": 5,
     "metadata": {},
     "output_type": "execute_result"
    }
   ],
   "source": [
    "dict_path"
   ]
  },
  {
   "cell_type": "code",
   "execution_count": 11,
   "metadata": {},
   "outputs": [
    {
     "data": {
      "text/plain": [
       "'/usr/lib/x86_64-linux-gnu/mecab/dic/mecab-unidic-neologd'"
      ]
     },
     "execution_count": 11,
     "metadata": {},
     "output_type": "execute_result"
    }
   ],
   "source": [
    "import re\n",
    "a = subprocess.Popen(\"echo `mecab-config --dicdir`\" + '\"/mecab-unidic-neologd\"', stdout=subprocess.PIPE, shell=True).stdout.readline().decode()\n",
    "re.sub(r\"\\n\", \"\", a)"
   ]
  },
  {
   "cell_type": "code",
   "execution_count": 1,
   "metadata": {},
   "outputs": [
    {
     "name": "stderr",
     "output_type": "stream",
     "text": [
      "/home/yamada/.local/share/virtualenvs/twichAI-ydQv36PI/lib/python3.8/site-packages/tqdm/auto.py:22: TqdmWarning: IProgress not found. Please update jupyter and ipywidgets. See https://ipywidgets.readthedocs.io/en/stable/user_install.html\n",
      "  from .autonotebook import tqdm as notebook_tqdm\n"
     ]
    }
   ],
   "source": [
    "import torch\n",
    "def generate_square_subsequent_mask(seq_len, PAD_IDX):\n",
    "    mask = (torch.triu(torch.ones((seq_len, seq_len))) == 1).transpose(0, 1)\n",
    "    mask = mask.float().masked_fill(mask == 0, float('-inf')).masked_fill(mask == PAD_IDX, float(0.0))\n",
    "    return mask\n"
   ]
  },
  {
   "cell_type": "code",
   "execution_count": 3,
   "metadata": {},
   "outputs": [
    {
     "data": {
      "text/plain": [
       "tensor([[0., -inf, -inf, -inf],\n",
       "        [0., 0., -inf, -inf],\n",
       "        [0., 0., 0., -inf],\n",
       "        [0., 0., 0., 0.]])"
      ]
     },
     "execution_count": 3,
     "metadata": {},
     "output_type": "execute_result"
    }
   ],
   "source": [
    "generate_square_subsequent_mask(4, 1)"
   ]
  },
  {
   "cell_type": "code",
   "execution_count": 5,
   "metadata": {},
   "outputs": [],
   "source": [
    "def generate_square_subsequent_mask_tout(sz: int) :\n",
    "    \"\"\"Generates an upper-triangular matrix of -inf, with zeros on diag.\"\"\"\n",
    "    return torch.triu(torch.ones(sz, sz) * float('-inf'), diagonal=1)"
   ]
  },
  {
   "cell_type": "code",
   "execution_count": 7,
   "metadata": {},
   "outputs": [
    {
     "data": {
      "text/plain": [
       "tensor([[0., -inf, -inf],\n",
       "        [0., 0., -inf],\n",
       "        [0., 0., 0.]])"
      ]
     },
     "execution_count": 7,
     "metadata": {},
     "output_type": "execute_result"
    }
   ],
   "source": [
    "generate_square_subsequent_mask_tout(3)"
   ]
  },
  {
   "cell_type": "code",
   "execution_count": 1,
   "metadata": {},
   "outputs": [
    {
     "name": "stderr",
     "output_type": "stream",
     "text": [
      "/home/yamada/.local/share/virtualenvs/twitchAI-AEfI_JA6/lib/python3.8/site-packages/tqdm/auto.py:22: TqdmWarning: IProgress not found. Please update jupyter and ipywidgets. See https://ipywidgets.readthedocs.io/en/stable/user_install.html\n",
      "  from .autonotebook import tqdm as notebook_tqdm\n"
     ]
    },
    {
     "data": {
      "text/plain": [
       "functools.partial(<function _spacy_tokenize at 0x7f4cf3c468b0>, spacy=<spacy.lang.de.German object at 0x7f4e10f34b50>)"
      ]
     },
     "execution_count": 1,
     "metadata": {},
     "output_type": "execute_result"
    }
   ],
   "source": [
    "from torchtext.data.utils import get_tokenizer\n",
    "get_tokenizer('spacy', language='de_core_news_sm')"
   ]
  },
  {
   "cell_type": "code",
   "execution_count": 6,
   "metadata": {},
   "outputs": [
    {
     "name": "stderr",
     "output_type": "stream",
     "text": [
      "/home/yamada/.local/share/virtualenvs/twitchAI-AEfI_JA6/lib/python3.8/site-packages/bottle.py:386: RuntimeWarning: Route <GET /assets/<filename>> overwrites a previously defined route\n",
      "  warnings.warn(msg % (method, rule), RuntimeWarning)\n",
      "Bottle v0.12.19 server starting up (using WSGIRefServer())...\n",
      "Listening on http://localhost:8080/\n",
      "Hit Ctrl-C to quit.\n",
      "\n",
      "127.0.0.1 - - [22/May/2022 04:36:21] \"GET / HTTP/1.1\" 404 143\n",
      "127.0.0.1 - - [22/May/2022 04:36:22] \"GET /vroid HTTP/1.1\" 200 1991\n",
      "127.0.0.1 - - [22/May/2022 04:36:23] \"GET /assets/yamada.vrm HTTP/1.1\" 200 8611876\n",
      "127.0.0.1 - - [22/May/2022 04:36:42] \"GET /vroid HTTP/1.1\" 200 1988\n",
      "127.0.0.1 - - [22/May/2022 04:36:43] \"GET /assets/yamada.vrm HTTP/1.1\" 200 8611876\n",
      "127.0.0.1 - - [22/May/2022 04:37:15] \"GET /vroid HTTP/1.1\" 200 1997\n",
      "127.0.0.1 - - [22/May/2022 04:37:16] \"GET /assets/yamada.vrm HTTP/1.1\" 200 8611876\n",
      "127.0.0.1 - - [22/May/2022 04:37:51] \"GET /vroid HTTP/1.1\" 200 1986\n",
      "127.0.0.1 - - [22/May/2022 04:37:52] \"GET /assets/yamada.vrm HTTP/1.1\" 200 8611876\n",
      "127.0.0.1 - - [22/May/2022 04:38:05] \"GET /vroid HTTP/1.1\" 200 1986\n",
      "127.0.0.1 - - [22/May/2022 04:38:06] \"GET /assets/yamada.vrm HTTP/1.1\" 200 8611876\n",
      "127.0.0.1 - - [22/May/2022 04:38:18] \"GET /vroid HTTP/1.1\" 200 1986\n",
      "127.0.0.1 - - [22/May/2022 04:38:19] \"GET /assets/yamada.vrm HTTP/1.1\" 200 8611876\n",
      "127.0.0.1 - - [22/May/2022 04:38:30] \"GET /vroid HTTP/1.1\" 200 1986\n",
      "127.0.0.1 - - [22/May/2022 04:38:31] \"GET /assets/yamada.vrm HTTP/1.1\" 200 8611876\n",
      "127.0.0.1 - - [22/May/2022 04:38:42] \"GET /vroid HTTP/1.1\" 200 1986\n",
      "127.0.0.1 - - [22/May/2022 04:38:43] \"GET /assets/yamada.vrm HTTP/1.1\" 200 8611876\n",
      "127.0.0.1 - - [22/May/2022 04:39:01] \"GET /vroid HTTP/1.1\" 200 1984\n",
      "127.0.0.1 - - [22/May/2022 04:39:01] \"GET /assets/yamada.vrm HTTP/1.1\" 200 8611876\n",
      "127.0.0.1 - - [22/May/2022 04:39:12] \"GET /vroid HTTP/1.1\" 200 1985\n",
      "127.0.0.1 - - [22/May/2022 04:39:13] \"GET /assets/yamada.vrm HTTP/1.1\" 200 8611876\n",
      "127.0.0.1 - - [22/May/2022 04:39:22] \"GET /vroid HTTP/1.1\" 200 1985\n",
      "127.0.0.1 - - [22/May/2022 04:39:23] \"GET /assets/yamada.vrm HTTP/1.1\" 200 8611876\n",
      "127.0.0.1 - - [22/May/2022 04:39:33] \"GET /vroid HTTP/1.1\" 200 1986\n",
      "127.0.0.1 - - [22/May/2022 04:39:34] \"GET /assets/yamada.vrm HTTP/1.1\" 200 8611876\n",
      "127.0.0.1 - - [22/May/2022 04:39:46] \"GET /vroid HTTP/1.1\" 200 1985\n",
      "127.0.0.1 - - [22/May/2022 04:39:47] \"GET /assets/yamada.vrm HTTP/1.1\" 200 8611876\n",
      "127.0.0.1 - - [22/May/2022 04:48:32] \"GET /vroid HTTP/1.1\" 200 1990\n",
      "127.0.0.1 - - [22/May/2022 04:48:33] \"GET /assets/yamada.vrm HTTP/1.1\" 200 8611876\n"
     ]
    }
   ],
   "source": [
    "from bottle import *\n",
    "import os\n",
    "\n",
    "@route(\"/vroid\")\n",
    "def login():\n",
    "    return template(\"sample\")\n",
    "\n",
    "@route('/assets/<filename>')\n",
    "def route_css(filename):\n",
    "    return static_file(filename, root='assets/')\n",
    "\n",
    "@error(404)\n",
    "def error404(error):\n",
    "    return '<font size=6><left> You got lost?? <br><br/>\\\n",
    "    Here is the login URL ->> </left></font>\\\n",
    "    <a href = \"http://localhost:8080/vroid\">Click!!</a>'.format(error=error)\n",
    "\n",
    "run(host='localhost',port=8080,debug=True)   "
   ]
  },
  {
   "cell_type": "code",
   "execution_count": null,
   "metadata": {},
   "outputs": [],
   "source": []
  }
 ],
 "metadata": {
  "interpreter": {
   "hash": "3b768359a65658dcda07a01f9fcd77d023c140b301dc2847ae2491657ec52602"
  },
  "kernelspec": {
   "display_name": "Python 3.8.8 ('twitchAI-AEfI_JA6')",
   "language": "python",
   "name": "python3"
  },
  "language_info": {
   "codemirror_mode": {
    "name": "ipython",
    "version": 3
   },
   "file_extension": ".py",
   "mimetype": "text/x-python",
   "name": "python",
   "nbconvert_exporter": "python",
   "pygments_lexer": "ipython3",
   "version": "3.8.8"
  },
  "orig_nbformat": 4
 },
 "nbformat": 4,
 "nbformat_minor": 2
}
