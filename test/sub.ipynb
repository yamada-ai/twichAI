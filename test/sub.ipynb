{
 "cells": [
  {
   "cell_type": "code",
   "execution_count": 1,
   "metadata": {},
   "outputs": [],
   "source": [
    "\n",
    "import subprocess"
   ]
  },
  {
   "cell_type": "code",
   "execution_count": 4,
   "metadata": {},
   "outputs": [],
   "source": [
    "cmd = \"echo `mecab-config --dicdir`\"\n",
    "cmd = cmd + '\"/mecab-unidic-neologd\"'\n",
    "dict_path = (\n",
    "            subprocess.Popen(cmd, stdout=subprocess.PIPE, shell=True)\n",
    "            .stdout.readline()\n",
    "            .decode()\n",
    "        )"
   ]
  },
  {
   "cell_type": "code",
   "execution_count": 5,
   "metadata": {},
   "outputs": [
    {
     "data": {
      "text/plain": [
       "'/usr/lib/x86_64-linux-gnu/mecab/dic/mecab-unidic-neologd\\n'"
      ]
     },
     "execution_count": 5,
     "metadata": {},
     "output_type": "execute_result"
    }
   ],
   "source": [
    "dict_path"
   ]
  },
  {
   "cell_type": "code",
   "execution_count": 11,
   "metadata": {},
   "outputs": [
    {
     "data": {
      "text/plain": [
       "'/usr/lib/x86_64-linux-gnu/mecab/dic/mecab-unidic-neologd'"
      ]
     },
     "execution_count": 11,
     "metadata": {},
     "output_type": "execute_result"
    }
   ],
   "source": [
    "import re\n",
    "a = subprocess.Popen(\"echo `mecab-config --dicdir`\" + '\"/mecab-unidic-neologd\"', stdout=subprocess.PIPE, shell=True).stdout.readline().decode()\n",
    "re.sub(r\"\\n\", \"\", a)"
   ]
  },
  {
   "cell_type": "code",
   "execution_count": null,
   "metadata": {},
   "outputs": [],
   "source": []
  }
 ],
 "metadata": {
  "interpreter": {
   "hash": "6fe7309c4cab71bb1008430f5263f772fe9869be1cdc1336a1c2414f7fdb9423"
  },
  "kernelspec": {
   "display_name": "Python 3.8.8 ('twichAI-ydQv36PI')",
   "language": "python",
   "name": "python3"
  },
  "language_info": {
   "codemirror_mode": {
    "name": "ipython",
    "version": 3
   },
   "file_extension": ".py",
   "mimetype": "text/x-python",
   "name": "python",
   "nbconvert_exporter": "python",
   "pygments_lexer": "ipython3",
   "version": "3.8.8"
  },
  "orig_nbformat": 4
 },
 "nbformat": 4,
 "nbformat_minor": 2
}
