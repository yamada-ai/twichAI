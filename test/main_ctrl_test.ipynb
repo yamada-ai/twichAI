{
 "cells": [
  {
   "cell_type": "markdown",
   "metadata": {},
   "source": [
    "# 対話制御の草案\n",
    "\n",
    "- 初見判定\n",
    "    - DBに発言者が登録されているか\n",
    "        - 定型文をいくつか用意\n",
    "- 登録済み\n",
    "    - 配信時間内の2回目以降\n",
    "        - 別の対話制御へ -> \n",
    "    - 1週間以内\n",
    "        - また来てくれてありがとう\n",
    "    - それ以外\n",
    "        - お久しぶり\n",
    "\n"
   ]
  },
  {
   "cell_type": "code",
   "execution_count": 358,
   "metadata": {},
   "outputs": [],
   "source": [
    "import sqlite3\n",
    "import datetime\n",
    "\n",
    "\n",
    "\n",
    "class UserInfoConnector:\n",
    "    \"\"\"\n",
    "    接続するデータベース\n",
    "    1. User\n",
    "        uid : int\n",
    "        name : str\n",
    "        like : text\n",
    "        last : datetime\n",
    "\n",
    "    2. Comment\n",
    "        cid : int\n",
    "        uid : int\n",
    "        content : text\n",
    "        reply : text\n",
    "        time : datetime\n",
    "    \n",
    "    \"\"\"\n",
    "\n",
    "    def __init__(self, db_path) -> None:\n",
    "        self.connector = sqlite3.connect(db_path)\n",
    "        self.cursor = self.connector.cursor()\n",
    "\n",
    "        self.next_uid = -1\n",
    "        self.next_cid = -1\n",
    "\n",
    "        self.format_date = \"%Y-%m-%d %H:%M:%S\"\n",
    "\n",
    "        # テーブルの作成(if not exist)\n",
    "        self.cursor.execute('CREATE TABLE IF NOT EXISTS User(uid int, name varchar(512), like text, last datetime)')\n",
    "\n",
    "        self.cursor.execute('CREATE TABLE IF NOT EXISTS Comment(cid int, uid int, content text, reply text, last datetime)')\n",
    "    \n",
    "    def datetime2str(self, dt:datetime)->str:\n",
    "        return dt.strftime(self.format_date)\n",
    "    \n",
    "    def str2datetime(self, time:str)->datetime:\n",
    "        return datetime.datetime.strptime(time, self.format_date)\n",
    "\n",
    "    # テーブルリセット\n",
    "    def reset_infomation(self):\n",
    "        self.reset_User()\n",
    "        self.reset_Comment()\n",
    "\n",
    "    # ユーザリセット\n",
    "    def reset_User(self):\n",
    "        sql = 'DROP TABLE IF EXISTS User'\n",
    "        self.cursor.execute(sql)\n",
    "        sql = 'CREATE TABLE IF NOT EXISTS User(uid int, name varchar(512), like text, last datetime)'\n",
    "        self.cursor.execute(sql)\n",
    "        self.connector.commit()\n",
    "    \n",
    "    # コメントリセット\n",
    "    def reset_Comment(self):\n",
    "        sql = 'DROP TABLE IF EXISTS Comment'\n",
    "        self.cursor.execute(sql)\n",
    "        self.cursor.execute('CREATE TABLE IF NOT EXISTS Comment(cid int, uid int, content text, reply text, last datetime)')\n",
    "        self.connector.commit()\n",
    "    \n",
    "    def serach_User_by_name(self, user_name:str):\n",
    "        sql = 'SELECT * FROM User WHERE name=\"{0}\"'.format(user_name)\n",
    "        self.cursor.execute(sql)\n",
    "        result = self.cursor.fetchall()\n",
    "        return result\n",
    "    \n",
    "    def serach_User_by_uid(self, uid:int):\n",
    "        sql = 'SELECT * FROM User WHERE uid=\"{0}\"'.format(uid)\n",
    "        self.cursor.execute(sql)\n",
    "        result = self.cursor.fetchall()\n",
    "        return result\n",
    "\n",
    "    # ユーザの検索\n",
    "    def is_exist_user(self, user_name:str):\n",
    "        result = self.serach_User_by_name(user_name)\n",
    "\n",
    "        if len(result)==1:\n",
    "            return True\n",
    "        elif len(result)==0:\n",
    "            return False\n",
    "        # 長さが2以上 -> 異常\n",
    "        else:\n",
    "            print(\"Number of matched users was more than 1\")\n",
    "            print(result)\n",
    "            return True\n",
    "        \n",
    "    def get_user_id(self, user_name:str):\n",
    "        result = self.serach_User_by_name(user_name)\n",
    "\n",
    "        if len(result)==1:\n",
    "            return int(result[0][0])\n",
    "        elif len(result)==0:\n",
    "            return -1\n",
    "        # 長さが2以上 -> 異常\n",
    "        else:\n",
    "            print(\"Number of matched users was more than 1\")\n",
    "            return -1\n",
    "\n",
    "    def register_user(self, user_name:str, comment:str, comment_time:datetime.datetime):\n",
    "        time_str = self.datetime2str(comment_time)\n",
    "        \n",
    "        # 次の uid が -1 なら，探索\n",
    "        if self.next_uid < 0:\n",
    "            sql = 'SELECT uid FROM User ORDER BY uid' \n",
    "            self.cursor.execute(sql)\n",
    "            result = self.cursor.fetchall()\n",
    "            self.next_uid = int(result[-1][0]) + 1\n",
    "            \n",
    "        #  uid, name, like, last \n",
    "        sql = \"INSERT INTO User VALUES({0}, '{1}', '{2}', '{3}')\".format(\n",
    "            self.next_uid, user_name, \"\", time_str,\n",
    "        )\n",
    "        self.cursor.execute(sql)\n",
    "        self.connector.commit()\n",
    "\n",
    "        # 次の番号へ更新\n",
    "        self.next_uid += 1\n",
    "    \n",
    "    # コメント時刻の更新\n",
    "    def update_comment_time(self, uid:int, comment_time:datetime.datetime):\n",
    "        sql = \"UPDATE User SET last='{0}' WHERE uid={1}\".format(self.datetime2str(comment_time), uid)\n",
    "        self.cursor.execute(sql)\n",
    "        self.connector.commit()\n",
    "    \n",
    "    def register_comment(self, uid:int, comment:str, reply:str, comment_time:datetime.datetime):\n",
    "        time_str = self.datetime2str(comment_time)\n",
    "        if self.next_cid < 0:\n",
    "            sql = 'SELECT cid FROM Comment ORDER BY cid' \n",
    "            self.cursor.execute(sql)\n",
    "            result = self.cursor.fetchall()\n",
    "            self.next_cid= int(result[-1][0]) + 1\n",
    "        #  cid, uid, content, last \n",
    "        sql = \"INSERT INTO Comment VALUES({0}, '{1}', '{2}', '{3}', '{4}')\".format(\n",
    "            self.next_cid, uid, comment, reply, time_str,\n",
    "        )\n",
    "        self.cursor.execute(sql)\n",
    "        self.connector.commit()\n",
    "\n",
    "        # 次の番号へ更新\n",
    "        self.next_cid += 1\n",
    "    \n",
    "    def extract_context(self, uid:int, lst:datetime.datetime):\n",
    "        time_str = self.datetime2str(lst)\n",
    "        sql = \"SELECT content, reply FROM Comment WHERE last>='{0}' AND uid={1}\".format(time_str, uid)\n",
    "        self.cursor.execute(sql)\n",
    "        result = self.cursor.fetchall()\n",
    "        return result\n",
    "\n",
    "    def test_register_User(self):\n",
    "        self.reset_User()\n",
    "        self.cursor.execute(\n",
    "            \"INSERT INTO User VALUES(1, '福間創', 'シンセサイザ', '{0}')\".format(self.datetime2str(datetime.datetime.now()))\n",
    "        )\n",
    "        self.cursor.execute(\n",
    "            \"INSERT INTO User VALUES(2, '平沢進', 'ギター', '{0}')\".format(self.datetime2str(datetime.datetime.now()))\n",
    "        )\n",
    "        self.cursor.execute(\n",
    "            \"INSERT INTO User VALUES(3, '山田', 'ランニング', '{0}')\".format(self.datetime2str(datetime.datetime.now()))\n",
    "        )\n",
    "        self.connector.commit()\n",
    "    \n",
    "    def test_register_Comment(self):\n",
    "        \"\"\"\n",
    "        2. Comment\n",
    "            cid : int\n",
    "            uid : int\n",
    "            content : text\n",
    "            reply : text\n",
    "            time : datetime\n",
    "        \"\"\"\n",
    "        self.reset_Comment()\n",
    "\n",
    "        self.cursor.execute(\n",
    "            \"INSERT INTO Comment VALUES(1, 1, '平沢さん怒ってます？', '何喧嘩？', '{0}')\".format(self.datetime2str(datetime.datetime.now()))\n",
    "        )\n",
    "        self.cursor.execute(\n",
    "            \"INSERT INTO Comment VALUES(2, 2, 'それを聞くのは反則だよ', '絶対嘘じゃん！', '{0}')\".format(self.datetime2str(datetime.datetime.now()))\n",
    "        )\n",
    "        self.connector.commit()"
   ]
  },
  {
   "cell_type": "code",
   "execution_count": 359,
   "metadata": {},
   "outputs": [],
   "source": [
    "import datetime\n",
    "import random\n",
    "class Controller:\n",
    "    def __init__(self):\n",
    "        self.db_ctrller = UserInfoConnector(\"./example.db\")\n",
    "\n",
    "        self.live_start_time:datetime.datetime = datetime.datetime.now()\n",
    "    \n",
    "    # この関数を呼ぶ\n",
    "    def reply(self, user_name:str, comment:str, comment_time:datetime.datetime):\n",
    "        \"\"\"\n",
    "        user_name : str\n",
    "            コメントしたユーザの名前\n",
    "        comment : str\n",
    "            コメント内容\n",
    "        comment_time : datetime.datetime\n",
    "            コメントした時刻\n",
    "        \"\"\"\n",
    "        utt = \"\"\n",
    "        # コメントした人(=ユーザ)が登録されているか\n",
    "        if self.db_ctrller.is_exist_user(user_name):\n",
    "            # 初見ではない\n",
    "            # ユーザのid\n",
    "            uid = self.db_ctrller.get_user_id(user_name)\n",
    "            # この配信で初めてのコメントである\n",
    "            tmp = self.db_ctrller.serach_User_by_uid(uid)\n",
    "            prev_comment_time = self.db_ctrller.str2datetime(tmp[0][-1])\n",
    "            # このユーザの最後のコメントが開始時刻よりも前ならば来場初コメント\n",
    "            delta = self.live_start_time - prev_comment_time\n",
    "            if int(delta.total_seconds()) >= 0 :\n",
    "                utt += \"{0}さん．こんにちは～．\".format(user_name)\n",
    "                # 前の発話との時差を確認\n",
    "                tmp = self.db_ctrller.serach_User_by_uid(uid)\n",
    "                prev_comment_time = self.db_ctrller.str2datetime(tmp[0][-1])\n",
    "                delta = comment_time - prev_comment_time\n",
    "                delta_day = int(delta.total_seconds())//(3600*24) \n",
    "                # print(int(delta.total_seconds())//(3600*24))\n",
    "                # 一週間以内\n",
    "                if delta_day <= 7:\n",
    "                    # 一日も経ってないよ\n",
    "                    if delta_day <= 0:\n",
    "                        utt += \"さっきぶり\".format(delta_day)\n",
    "                    else:\n",
    "                        utt += \"{0}日ぶり\".format(delta_day)\n",
    "\n",
    "                    candidate = [\n",
    "                        \"だね．やぁやぁ．\",\n",
    "                        \"だね．また来てくれて嬉しいよ．\",\n",
    "                        \"．元気？\",\n",
    "                        \"にどうも～．\",\n",
    "                        \"で合ってる？\",\n",
    "                        ]\n",
    "                    utt += random.choice(candidate)\n",
    "                else:\n",
    "                    # お久しぶりセット\n",
    "                    candidate = [\n",
    "                        \"お久しぶり！ \",\n",
    "                        \"また会えてうれしいよ！ \",\n",
    "                        \"元気だった？\",\n",
    "                        \"生きてたんだぁ・\",\n",
    "                        \"おひさ～．\",\n",
    "                        \"俺のこと覚えてたんだ．\"\n",
    "                    ]\n",
    "                    utt += random.choice(candidate)\n",
    "            \n",
    "            # 当該ライブでは2回目以降のコメント\n",
    "            else:\n",
    "                utt += \"そうだっけ？　覚えてないや\"\n",
    "            \n",
    "            # 最後の発話時刻を更新\n",
    "            self.db_ctrller.update_comment_time(uid, comment_time)\n",
    "\n",
    "        else:\n",
    "            # 初見である\n",
    "            utt += \"{0}さん，はじめまして！\".format(user_name)\n",
    "            # ユーザを登録\n",
    "            self.db_ctrller.register_user(user_name, comment, comment_time)\n",
    "            # ユーザのid\n",
    "            uid = self.db_ctrller.get_user_id(user_name)\n",
    "\n",
    "\n",
    "        print(utt)\n",
    "        # コメントを登録\n",
    "        self.db_ctrller.register_comment(uid, comment, utt, comment_time)\n",
    "    "
   ]
  },
  {
   "cell_type": "code",
   "execution_count": 360,
   "metadata": {},
   "outputs": [],
   "source": [
    "ctrler = Controller()\n",
    "ctrler.db_ctrller.test_register_User()\n",
    "ctrler.db_ctrller.test_register_Comment()"
   ]
  },
  {
   "cell_type": "code",
   "execution_count": 361,
   "metadata": {},
   "outputs": [],
   "source": [
    "time.sleep(0.5)\n",
    "# ctrler.db_ctrller.register_user(\"yamada\", \"お前誰？\", datetime.datetime.now())"
   ]
  },
  {
   "cell_type": "code",
   "execution_count": 362,
   "metadata": {},
   "outputs": [],
   "source": [
    "t1 = '2022-03-20 22:18:48'\n",
    "t2 = '2022-05-19 22:18:48'\n",
    "tt1 = ctrler.db_ctrller.str2datetime(t1)\n",
    "tt2 = ctrler.db_ctrller.str2datetime(t2)\n",
    "import time"
   ]
  },
  {
   "cell_type": "code",
   "execution_count": 363,
   "metadata": {},
   "outputs": [
    {
     "name": "stdout",
     "output_type": "stream",
     "text": [
      "yamadaさん，はじめまして！\n"
     ]
    }
   ],
   "source": [
    "time.sleep(0.5)\n",
    "ctrler.reply(\"yamada\", \"お前誰？\", datetime.datetime.now())"
   ]
  },
  {
   "cell_type": "code",
   "execution_count": 364,
   "metadata": {},
   "outputs": [
    {
     "name": "stdout",
     "output_type": "stream",
     "text": [
      "yamadaさん．こんにちは～．さっきぶりだね．また来てくれて嬉しいよ．\n"
     ]
    }
   ],
   "source": [
    "time.sleep(0.5)\n",
    "ctrler.reply(\"yamada\", \"ガチでお前誰？\", datetime.datetime.now())"
   ]
  },
  {
   "cell_type": "code",
   "execution_count": 365,
   "metadata": {},
   "outputs": [],
   "source": [
    "time.sleep(0.5)"
   ]
  },
  {
   "cell_type": "code",
   "execution_count": 366,
   "metadata": {},
   "outputs": [
    {
     "name": "stdout",
     "output_type": "stream",
     "text": [
      "tadarenさん，はじめまして！\n"
     ]
    }
   ],
   "source": [
    "ctrler.reply(\"tadaren\", \"初見です\", datetime.datetime.now())"
   ]
  },
  {
   "cell_type": "code",
   "execution_count": 367,
   "metadata": {},
   "outputs": [
    {
     "name": "stdout",
     "output_type": "stream",
     "text": [
      "そうだっけ？　覚えてないや\n"
     ]
    }
   ],
   "source": [
    "time.sleep(0.5)\n",
    "ctrler.reply(\"tadaren\", \"はじめまして\", datetime.datetime.now())"
   ]
  },
  {
   "cell_type": "code",
   "execution_count": 368,
   "metadata": {},
   "outputs": [
    {
     "name": "stdout",
     "output_type": "stream",
     "text": [
      "そうだっけ？　覚えてないや\n"
     ]
    }
   ],
   "source": [
    "time.sleep(1)\n",
    "ctrler.reply(\"tadaren\", \"ふざけんな\", datetime.datetime.now())"
   ]
  },
  {
   "cell_type": "code",
   "execution_count": 369,
   "metadata": {},
   "outputs": [
    {
     "name": "stdout",
     "output_type": "stream",
     "text": [
      "そうだっけ？　覚えてないや\n"
     ]
    }
   ],
   "source": [
    "time.sleep(1)\n",
    "ctrler.reply(\"tadaren\", \"はじめまして\", datetime.datetime.now())"
   ]
  },
  {
   "cell_type": "code",
   "execution_count": 371,
   "metadata": {},
   "outputs": [
    {
     "data": {
      "text/plain": [
       "[('お前誰？', 'yamadaさん，はじめまして！'),\n",
       " ('ガチでお前誰？', 'yamadaさん．こんにちは～．さっきぶりだね．また来てくれて嬉しいよ．')]"
      ]
     },
     "execution_count": 371,
     "metadata": {},
     "output_type": "execute_result"
    }
   ],
   "source": [
    "ctrler.db_ctrller.extract_context(4, ctrler.live_start_time)"
   ]
  },
  {
   "cell_type": "code",
   "execution_count": null,
   "metadata": {},
   "outputs": [],
   "source": []
  }
 ],
 "metadata": {
  "interpreter": {
   "hash": "3b768359a65658dcda07a01f9fcd77d023c140b301dc2847ae2491657ec52602"
  },
  "kernelspec": {
   "display_name": "Python 3.8.8 ('twitchAI-AEfI_JA6')",
   "language": "python",
   "name": "python3"
  },
  "language_info": {
   "codemirror_mode": {
    "name": "ipython",
    "version": 3
   },
   "file_extension": ".py",
   "mimetype": "text/x-python",
   "name": "python",
   "nbconvert_exporter": "python",
   "pygments_lexer": "ipython3",
   "version": "3.8.8"
  },
  "orig_nbformat": 4
 },
 "nbformat": 4,
 "nbformat_minor": 2
}
