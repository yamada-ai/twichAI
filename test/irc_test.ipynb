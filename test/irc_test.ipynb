{
 "cells": [
  {
   "cell_type": "markdown",
   "metadata": {},
   "source": [
    "- # 参考\n",
    "    - IRCの概要から簡易クライアント作成(Python3)まで\n",
    "        - https://qiita.com/takesyhi/items/cfde655f5769286a770a\n",
    "    - TwitchのチャットへLimechat等のIRCクライアントを使ったログイン方法\n",
    "        - https://kakuge-checker.com/contents/twitch_chat_login.php\n",
    "    \n",
    "    - Twitch APIに必要なOAuth認証のアクセストークンを取得しよう\n",
    "        - https://qiita.com/pasta04/items/2ff86692d20891b65905\n",
    "    \n",
    "    - TwitchIOでTwitchのBotを作る\n",
    "        - https://qiita.com/maguro869/items/57b866779b665058cfe8#3-twitchio%E3%82%92%E3%82%A4%E3%83%B3%E3%82%B9%E3%83%88%E3%83%BC%E3%83%AB"
   ]
  },
  {
   "cell_type": "markdown",
   "metadata": {},
   "source": []
  },
  {
   "cell_type": "code",
   "execution_count": 4,
   "metadata": {},
   "outputs": [],
   "source": [
    "from twitchio.ext import commands\n",
    "from config import *\n",
    "import nest_asyncio"
   ]
  },
  {
   "cell_type": "code",
   "execution_count": 13,
   "metadata": {},
   "outputs": [],
   "source": [
    "class Bot(commands.Bot):\n",
    "\n",
    "    def __init__(self, token, client_id, nick, initial_channels):\n",
    "        # Initialise our Bot with our access token, prefix and a list of channels to join on boot...\n",
    "        super().__init__(token, prefix='?' , client_id=client_id, nick=nick, initial_channels=initial_channels)\n",
    "\n",
    "    async def event_ready(self):\n",
    "        # We are logged in and ready to chat and use commands...\n",
    "        print(f'Logged in as | {self.nick}')\n",
    "        print(f'User id is | {self.user_id}')\n",
    "    \n",
    "    async def event_message(self, message):\n",
    "        # Messages with echo set to True are messages sent by the bot...\n",
    "        # For now we just want to ignore them...\n",
    "        if message.echo:\n",
    "            return\n",
    "\n",
    "        # Print the contents of our message to console...\n",
    "        print(message.content)\n",
    "\n",
    "        await self.handle_commands(message)\n",
    "\n",
    "    @commands.command()\n",
    "    async def hello(self, ctx: commands.Context):\n",
    "        # Send a hello back!\n",
    "        await ctx.send(f'Hello {ctx.author.name}!')"
   ]
  },
  {
   "cell_type": "code",
   "execution_count": 14,
   "metadata": {},
   "outputs": [
    {
     "ename": "RuntimeError",
     "evalue": "This event loop is already running",
     "output_type": "error",
     "traceback": [
      "\u001b[0;31m---------------------------------------------------------------------------\u001b[0m",
      "\u001b[0;31mRuntimeError\u001b[0m                              Traceback (most recent call last)",
      "File \u001b[0;32m~/.local/share/virtualenvs/twitchAI-AEfI_JA6/lib/python3.8/site-packages/twitchio/client.py:151\u001b[0m, in \u001b[0;36mClient.run\u001b[0;34m(self)\u001b[0m\n\u001b[1;32m    <a href='file:///home/yamada/.local/share/virtualenvs/twitchAI-AEfI_JA6/lib/python3.8/site-packages/twitchio/client.py?line=149'>150</a>\u001b[0m     \u001b[39mself\u001b[39m\u001b[39m.\u001b[39mloop\u001b[39m.\u001b[39mcreate_task(\u001b[39mself\u001b[39m\u001b[39m.\u001b[39mconnect())\n\u001b[0;32m--> <a href='file:///home/yamada/.local/share/virtualenvs/twitchAI-AEfI_JA6/lib/python3.8/site-packages/twitchio/client.py?line=150'>151</a>\u001b[0m     \u001b[39mself\u001b[39;49m\u001b[39m.\u001b[39;49mloop\u001b[39m.\u001b[39;49mrun_forever()\n\u001b[1;32m    <a href='file:///home/yamada/.local/share/virtualenvs/twitchAI-AEfI_JA6/lib/python3.8/site-packages/twitchio/client.py?line=151'>152</a>\u001b[0m \u001b[39mexcept\u001b[39;00m \u001b[39mKeyboardInterrupt\u001b[39;00m:\n",
      "File \u001b[0;32m~/.pyenv/versions/3.8.8/lib/python3.8/asyncio/base_events.py:560\u001b[0m, in \u001b[0;36mBaseEventLoop.run_forever\u001b[0;34m(self)\u001b[0m\n\u001b[1;32m    <a href='file:///home/yamada/.pyenv/versions/3.8.8/lib/python3.8/asyncio/base_events.py?line=558'>559</a>\u001b[0m \u001b[39mself\u001b[39m\u001b[39m.\u001b[39m_check_closed()\n\u001b[0;32m--> <a href='file:///home/yamada/.pyenv/versions/3.8.8/lib/python3.8/asyncio/base_events.py?line=559'>560</a>\u001b[0m \u001b[39mself\u001b[39;49m\u001b[39m.\u001b[39;49m_check_running()\n\u001b[1;32m    <a href='file:///home/yamada/.pyenv/versions/3.8.8/lib/python3.8/asyncio/base_events.py?line=560'>561</a>\u001b[0m \u001b[39mself\u001b[39m\u001b[39m.\u001b[39m_set_coroutine_origin_tracking(\u001b[39mself\u001b[39m\u001b[39m.\u001b[39m_debug)\n",
      "File \u001b[0;32m~/.pyenv/versions/3.8.8/lib/python3.8/asyncio/base_events.py:552\u001b[0m, in \u001b[0;36mBaseEventLoop._check_running\u001b[0;34m(self)\u001b[0m\n\u001b[1;32m    <a href='file:///home/yamada/.pyenv/versions/3.8.8/lib/python3.8/asyncio/base_events.py?line=550'>551</a>\u001b[0m \u001b[39mif\u001b[39;00m \u001b[39mself\u001b[39m\u001b[39m.\u001b[39mis_running():\n\u001b[0;32m--> <a href='file:///home/yamada/.pyenv/versions/3.8.8/lib/python3.8/asyncio/base_events.py?line=551'>552</a>\u001b[0m     \u001b[39mraise\u001b[39;00m \u001b[39mRuntimeError\u001b[39;00m(\u001b[39m'\u001b[39m\u001b[39mThis event loop is already running\u001b[39m\u001b[39m'\u001b[39m)\n\u001b[1;32m    <a href='file:///home/yamada/.pyenv/versions/3.8.8/lib/python3.8/asyncio/base_events.py?line=552'>553</a>\u001b[0m \u001b[39mif\u001b[39;00m events\u001b[39m.\u001b[39m_get_running_loop() \u001b[39mis\u001b[39;00m \u001b[39mnot\u001b[39;00m \u001b[39mNone\u001b[39;00m:\n",
      "\u001b[0;31mRuntimeError\u001b[0m: This event loop is already running",
      "\nDuring handling of the above exception, another exception occurred:\n",
      "\u001b[0;31mRuntimeError\u001b[0m                              Traceback (most recent call last)",
      "\u001b[1;32m/home/yamada/Documents/twitchAI/irc_test.ipynb Cell 5'\u001b[0m in \u001b[0;36m<cell line: 9>\u001b[0;34m()\u001b[0m\n\u001b[1;32m      <a href='vscode-notebook-cell://wsl%2Bubuntu-18.04/home/yamada/Documents/twitchAI/irc_test.ipynb#ch0000004vscode-remote?line=0'>1</a>\u001b[0m bot \u001b[39m=\u001b[39m Bot(\n\u001b[1;32m      <a href='vscode-notebook-cell://wsl%2Bubuntu-18.04/home/yamada/Documents/twitchAI/irc_test.ipynb#ch0000004vscode-remote?line=1'>2</a>\u001b[0m     token\u001b[39m=\u001b[39mTMI_TOKEN,\n\u001b[1;32m      <a href='vscode-notebook-cell://wsl%2Bubuntu-18.04/home/yamada/Documents/twitchAI/irc_test.ipynb#ch0000004vscode-remote?line=2'>3</a>\u001b[0m     client_id\u001b[39m=\u001b[39mCLIENT_ID,\n\u001b[0;32m   (...)\u001b[0m\n\u001b[1;32m      <a href='vscode-notebook-cell://wsl%2Bubuntu-18.04/home/yamada/Documents/twitchAI/irc_test.ipynb#ch0000004vscode-remote?line=5'>6</a>\u001b[0m     initial_channels\u001b[39m=\u001b[39mCHANNEL,\n\u001b[1;32m      <a href='vscode-notebook-cell://wsl%2Bubuntu-18.04/home/yamada/Documents/twitchAI/irc_test.ipynb#ch0000004vscode-remote?line=6'>7</a>\u001b[0m )\n\u001b[0;32m----> <a href='vscode-notebook-cell://wsl%2Bubuntu-18.04/home/yamada/Documents/twitchAI/irc_test.ipynb#ch0000004vscode-remote?line=8'>9</a>\u001b[0m bot\u001b[39m.\u001b[39;49mrun()\n",
      "File \u001b[0;32m~/.local/share/virtualenvs/twitchAI-AEfI_JA6/lib/python3.8/site-packages/twitchio/client.py:155\u001b[0m, in \u001b[0;36mClient.run\u001b[0;34m(self)\u001b[0m\n\u001b[1;32m    <a href='file:///home/yamada/.local/share/virtualenvs/twitchAI-AEfI_JA6/lib/python3.8/site-packages/twitchio/client.py?line=152'>153</a>\u001b[0m     \u001b[39mpass\u001b[39;00m\n\u001b[1;32m    <a href='file:///home/yamada/.local/share/virtualenvs/twitchAI-AEfI_JA6/lib/python3.8/site-packages/twitchio/client.py?line=153'>154</a>\u001b[0m \u001b[39mfinally\u001b[39;00m:\n\u001b[0;32m--> <a href='file:///home/yamada/.local/share/virtualenvs/twitchAI-AEfI_JA6/lib/python3.8/site-packages/twitchio/client.py?line=154'>155</a>\u001b[0m     \u001b[39mself\u001b[39;49m\u001b[39m.\u001b[39;49mloop\u001b[39m.\u001b[39;49mrun_until_complete(\u001b[39mself\u001b[39;49m\u001b[39m.\u001b[39;49mclose())\n\u001b[1;32m    <a href='file:///home/yamada/.local/share/virtualenvs/twitchAI-AEfI_JA6/lib/python3.8/site-packages/twitchio/client.py?line=155'>156</a>\u001b[0m     \u001b[39mself\u001b[39m\u001b[39m.\u001b[39mloop\u001b[39m.\u001b[39mclose()\n",
      "File \u001b[0;32m~/.pyenv/versions/3.8.8/lib/python3.8/asyncio/base_events.py:592\u001b[0m, in \u001b[0;36mBaseEventLoop.run_until_complete\u001b[0;34m(self, future)\u001b[0m\n\u001b[1;32m    <a href='file:///home/yamada/.pyenv/versions/3.8.8/lib/python3.8/asyncio/base_events.py?line=580'>581</a>\u001b[0m \u001b[39m\"\"\"Run until the Future is done.\u001b[39;00m\n\u001b[1;32m    <a href='file:///home/yamada/.pyenv/versions/3.8.8/lib/python3.8/asyncio/base_events.py?line=581'>582</a>\u001b[0m \n\u001b[1;32m    <a href='file:///home/yamada/.pyenv/versions/3.8.8/lib/python3.8/asyncio/base_events.py?line=582'>583</a>\u001b[0m \u001b[39mIf the argument is a coroutine, it is wrapped in a Task.\u001b[39;00m\n\u001b[0;32m   (...)\u001b[0m\n\u001b[1;32m    <a href='file:///home/yamada/.pyenv/versions/3.8.8/lib/python3.8/asyncio/base_events.py?line=588'>589</a>\u001b[0m \u001b[39mReturn the Future's result, or raise its exception.\u001b[39;00m\n\u001b[1;32m    <a href='file:///home/yamada/.pyenv/versions/3.8.8/lib/python3.8/asyncio/base_events.py?line=589'>590</a>\u001b[0m \u001b[39m\"\"\"\u001b[39;00m\n\u001b[1;32m    <a href='file:///home/yamada/.pyenv/versions/3.8.8/lib/python3.8/asyncio/base_events.py?line=590'>591</a>\u001b[0m \u001b[39mself\u001b[39m\u001b[39m.\u001b[39m_check_closed()\n\u001b[0;32m--> <a href='file:///home/yamada/.pyenv/versions/3.8.8/lib/python3.8/asyncio/base_events.py?line=591'>592</a>\u001b[0m \u001b[39mself\u001b[39;49m\u001b[39m.\u001b[39;49m_check_running()\n\u001b[1;32m    <a href='file:///home/yamada/.pyenv/versions/3.8.8/lib/python3.8/asyncio/base_events.py?line=593'>594</a>\u001b[0m new_task \u001b[39m=\u001b[39m \u001b[39mnot\u001b[39;00m futures\u001b[39m.\u001b[39misfuture(future)\n\u001b[1;32m    <a href='file:///home/yamada/.pyenv/versions/3.8.8/lib/python3.8/asyncio/base_events.py?line=594'>595</a>\u001b[0m future \u001b[39m=\u001b[39m tasks\u001b[39m.\u001b[39mensure_future(future, loop\u001b[39m=\u001b[39m\u001b[39mself\u001b[39m)\n",
      "File \u001b[0;32m~/.pyenv/versions/3.8.8/lib/python3.8/asyncio/base_events.py:552\u001b[0m, in \u001b[0;36mBaseEventLoop._check_running\u001b[0;34m(self)\u001b[0m\n\u001b[1;32m    <a href='file:///home/yamada/.pyenv/versions/3.8.8/lib/python3.8/asyncio/base_events.py?line=549'>550</a>\u001b[0m \u001b[39mdef\u001b[39;00m \u001b[39m_check_running\u001b[39m(\u001b[39mself\u001b[39m):\n\u001b[1;32m    <a href='file:///home/yamada/.pyenv/versions/3.8.8/lib/python3.8/asyncio/base_events.py?line=550'>551</a>\u001b[0m     \u001b[39mif\u001b[39;00m \u001b[39mself\u001b[39m\u001b[39m.\u001b[39mis_running():\n\u001b[0;32m--> <a href='file:///home/yamada/.pyenv/versions/3.8.8/lib/python3.8/asyncio/base_events.py?line=551'>552</a>\u001b[0m         \u001b[39mraise\u001b[39;00m \u001b[39mRuntimeError\u001b[39;00m(\u001b[39m'\u001b[39m\u001b[39mThis event loop is already running\u001b[39m\u001b[39m'\u001b[39m)\n\u001b[1;32m    <a href='file:///home/yamada/.pyenv/versions/3.8.8/lib/python3.8/asyncio/base_events.py?line=552'>553</a>\u001b[0m     \u001b[39mif\u001b[39;00m events\u001b[39m.\u001b[39m_get_running_loop() \u001b[39mis\u001b[39;00m \u001b[39mnot\u001b[39;00m \u001b[39mNone\u001b[39;00m:\n\u001b[1;32m    <a href='file:///home/yamada/.pyenv/versions/3.8.8/lib/python3.8/asyncio/base_events.py?line=553'>554</a>\u001b[0m         \u001b[39mraise\u001b[39;00m \u001b[39mRuntimeError\u001b[39;00m(\n\u001b[1;32m    <a href='file:///home/yamada/.pyenv/versions/3.8.8/lib/python3.8/asyncio/base_events.py?line=554'>555</a>\u001b[0m             \u001b[39m'\u001b[39m\u001b[39mCannot run the event loop while another loop is running\u001b[39m\u001b[39m'\u001b[39m)\n",
      "\u001b[0;31mRuntimeError\u001b[0m: This event loop is already running"
     ]
    },
    {
     "name": "stdout",
     "output_type": "stream",
     "text": [
      "Logged in as | yamada_ai_\n",
      "User id is | 593637602\n",
      "ない気がする\n",
      "あと，参考にしたqiita，discordにはっておいて\n",
      "あ，t氏が関係あるかもって\n",
      "ジュピターと相性悪いんじゃねって\n",
      "aaa\n",
      "テスト\n",
      "aa\n",
      "aaa\n",
      "aaa\n",
      "これでOK?]\n",
      "やほお\n",
      "順番あやしいぜ\n",
      "?aaa\n"
     ]
    },
    {
     "name": "stderr",
     "output_type": "stream",
     "text": [
      "Ignoring exception in command: No command \"aaa\" was found.:\n",
      "twitchio.ext.commands.errors.CommandNotFound: No command \"aaa\" was found.\n"
     ]
    },
    {
     "name": "stdout",
     "output_type": "stream",
     "text": [
      "あはあは\n",
      "?hello\n",
      "Hello yamada_ai_!\n",
      "?co\n"
     ]
    },
    {
     "name": "stderr",
     "output_type": "stream",
     "text": [
      "Ignoring exception in command: No command \"co\" was found.:\n",
      "twitchio.ext.commands.errors.CommandNotFound: No command \"co\" was found.\n"
     ]
    },
    {
     "name": "stdout",
     "output_type": "stream",
     "text": [
      "?hello\n",
      "Hello yamada_ai_!\n",
      "?hello\n",
      "Hello trompot!\n",
      "test\n",
      "?hello\n",
      "Hello yamada_ai_!\n",
      "?hello\n",
      "BOT_NIC変更白\n",
      "しろ\n",
      "画面ぼやけてるかわわからん\n",
      "?co\n"
     ]
    },
    {
     "name": "stderr",
     "output_type": "stream",
     "text": [
      "Ignoring exception in command: No command \"co\" was found.:\n",
      "twitchio.ext.commands.errors.CommandNotFound: No command \"co\" was found.\n"
     ]
    },
    {
     "name": "stdout",
     "output_type": "stream",
     "text": [
      "私が画面リロードしたからhelloなんじゃない？\n",
      "nnjasirane-\n",
      "aa\n",
      "?hello\n",
      "ライブラリに nick を指定して上書きしてる記述はない気がする\n",
      "自分でライブラリ書けば万事解決\n",
      "API仕様見ればいいんじゃね\n",
      "ちょっとPHP書き(仕事si)\n",
      "しながら見てるから\n",
      "ちょいまち\n",
      "あ\n",
      "twitch developersのページ開いてみて\n",
      "コンソールのアプリケーションから\n",
      "キー発行した？\n",
      "そこの名前ってなにになってる？\n",
      "カテゴリって chat botだよね？\n",
      "んー，なんだろ\n",
      "今使ってるキーってそこで発行したキーだよね？\n",
      "あー，あるほどね\n",
      "あれ？\n",
      "yamada-app に変更したのっていつ？\n",
      "https://dev.twitch.tv/docs/irc/guide > Your nickname (nick) must be your Twitch username (login name) in lowercase.\n",
      "変更できない...?\n",
      "https://discuss.dev.twitch.tv/t/twitch-chat-bot-name/22039\n",
      "seyana\n",
      "?hello\n",
      "?hello2\n"
     ]
    },
    {
     "name": "stderr",
     "output_type": "stream",
     "text": [
      "Ignoring exception in command: No command \"hello2\" was found.:\n",
      "twitchio.ext.commands.errors.CommandNotFound: No command \"hello2\" was found.\n"
     ]
    },
    {
     "name": "stdout",
     "output_type": "stream",
     "text": [
      "?hello\n",
      "Bot :Hello yamada_ai_!\n",
      "?hello\n",
      "Bot :Hello yamada_ai_!\n",
      "hello\n",
      "?hello\n",
      "Bot :Hello trompot!\n",
      "aaa\n",
      "aaa\n",
      "test\n",
      "8\n",
      "?hello\n",
      "Bot :Hello yamada_ai_!\n",
      "せやな(茜ちゃんボイス\n",
      "ちなみにその技術(ユーザ名ではぶく)のha\n",
      "aaa\n",
      "は聖四朗botに取り入れられてます\n",
      "?heelo\n"
     ]
    },
    {
     "name": "stderr",
     "output_type": "stream",
     "text": [
      "Ignoring exception in command: No command \"heelo\" was found.:\n",
      "twitchio.ext.commands.errors.CommandNotFound: No command \"heelo\" was found.\n"
     ]
    },
    {
     "name": "stdout",
     "output_type": "stream",
     "text": [
      "?hello\n",
      "あったはず\n",
      "?hello\n",
      "Bot :Hello trompot!\n",
      "コート見せてみんしゃい\n",
      "?hello\n",
      "Bot :Hello trompot!\n",
      "print(message)\n",
      "書いて\n",
      "?hello\n",
      "Bot :Hello trompot!\n",
      "code\n",
      "あー\n",
      "print(message.authなんとか\n",
      "にして\n",
      "aaa\n",
      "?hello\n",
      "Bot :Hello trompot!\n",
      "んじゃ\n",
      "そゆことやな\n",
      "コマンド時にauthorがない仕様ってことじゃないの\n",
      "?hey\n"
     ]
    },
    {
     "name": "stderr",
     "output_type": "stream",
     "text": [
      "Ignoring exception in command: No command \"hey\" was found.:\n",
      "twitchio.ext.commands.errors.CommandNotFound: No command \"hey\" was found.\n"
     ]
    },
    {
     "name": "stdout",
     "output_type": "stream",
     "text": [
      "?hello\n",
      "?hello\n",
      "Bot :Hello trompot!\n",
      "もう1回ターミナルみせて\n",
      "今度はコードみせてー\n",
      "うん\n",
      "試したいコード，discordにはっておくね\n",
      "あ，誤字ある\n",
      "2行目\n",
      "場所はあってる\n",
      "うん\n",
      "aa\n",
      "hey\n",
      "?hello\n",
      "あ，ミスった\n",
      "use()は消して\n",
      "うんその行をdelete\n",
      "aaa\n",
      "?hello\n",
      "Bot :Hello trompot!\n",
      "そうなの？\n",
      "aa\n",
      "?hello\n",
      "Bot :Hello trompot!\n",
      "あーそうか\n",
      "さっきからドキュメントしかみてないけど，これはチャンネルにいる人をとってるだけな気がする https://twitchio.dev/en/latest/reference.html#twitchio.Channel\n",
      "その前に，なぜ authorがNoneになるのかがわからない\n",
      "Noneになるとは書いてないな\n",
      "?hello\n",
      "?hello\n",
      "?hello\n",
      "Bot :Hello trompot!\n",
      "あれ，そこで私のauthorをとらないといけない理由ってなんだっけ？\n",
      "というと？\n",
      "なるほど\n",
      "理解\n",
      "ええで\n",
      "山田製作所開発部としてやってええで\n",
      "Githubにリポジトリたてて\n",
      "なるほどな\n",
      "omosiroso\n",
      "ハードウェアは任せろ(白目\n",
      "とりあえずTwitterにあげた組んだGPGPU用マシン，i8で32GBで組んだので\n",
      "i7\n",
      "typo\n",
      "i7-8086k\n",
      "伝説のCPU\n",
      "足りないならメモリ買ってくるけど\n",
      "世界のakiba\n",
      "せやな\n",
      "おやすみ\n",
      "現在進行形\n",
      "(仕事)\n",
      "bye\n"
     ]
    }
   ],
   "source": [
    "bot = Bot(\n",
    "    token=TMI_TOKEN,\n",
    "    client_id=CLIENT_ID,\n",
    "    nick=BOT_NICK,\n",
    "    # prefix=BOT_PREFIX,\n",
    "    initial_channels=CHANNEL,\n",
    ")\n",
    "\n",
    "bot.run()"
   ]
  },
  {
   "cell_type": "code",
   "execution_count": null,
   "metadata": {},
   "outputs": [],
   "source": []
  }
 ],
 "metadata": {
  "interpreter": {
   "hash": "3b768359a65658dcda07a01f9fcd77d023c140b301dc2847ae2491657ec52602"
  },
  "kernelspec": {
   "display_name": "Python 3.8.8 ('twitchAI-AEfI_JA6')",
   "language": "python",
   "name": "python3"
  },
  "language_info": {
   "codemirror_mode": {
    "name": "ipython",
    "version": 3
   },
   "file_extension": ".py",
   "mimetype": "text/x-python",
   "name": "python",
   "nbconvert_exporter": "python",
   "pygments_lexer": "ipython3",
   "version": "3.8.8"
  },
  "orig_nbformat": 4
 },
 "nbformat": 4,
 "nbformat_minor": 2
}
