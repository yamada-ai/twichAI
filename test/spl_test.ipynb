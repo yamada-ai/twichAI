{
 "cells": [
  {
   "cell_type": "code",
   "execution_count": 1,
   "metadata": {},
   "outputs": [],
   "source": [
    "import sqlite3"
   ]
  },
  {
   "cell_type": "markdown",
   "metadata": {},
   "source": [
    "### テーブルについて\n",
    "\n",
    "- 満たしたい仕様(ケース)\n",
    "    - コメントしたユーザを識別し，過去にどのようなツイートをしたかを取得可能\n",
    "    - コメントをした時刻を取得可能\n",
    "    - 各ユーザに関する簡単な情報を記憶\n",
    "        - 短期的な記憶と長期的記憶に分けてもOK\n",
    "\n",
    "- 提案されるテーブル(*は主キー)\n",
    "    1. User (視聴者)\n",
    "        - *uid:int\n",
    "            - ユーザのユニークID\n",
    "        - name:str\n",
    "            - ユーザーネーム\n",
    "        - last:datatime\n",
    "            - 最後にコメントした時刻\n",
    "        - like:text\n",
    "            - ユーザが好きなもの\n",
    "        \n",
    "    1. Comment\n",
    "        - *cid:int\n",
    "            - 視聴者のユニークID\n",
    "        - uid:int\n",
    "            - コメントしたユーザのID\n",
    "        - content:text\n",
    "            - コメント内容(数字正規化除く)\n",
    "        - time:datatime\n",
    "            - 時刻"
   ]
  },
  {
   "cell_type": "code",
   "execution_count": 2,
   "metadata": {},
   "outputs": [],
   "source": [
    "import datetime\n",
    "dt_now = datetime.datetime.now()"
   ]
  },
  {
   "cell_type": "code",
   "execution_count": 3,
   "metadata": {},
   "outputs": [],
   "source": [
    "format_date = \"%Y-%m-%d %H:%M:%S\"\n",
    "def datetime2str(dt:datetime)->str:\n",
    "    return dt.strftime(format_date)\n",
    "\n",
    "def str2datetime(time:str)->datetime:\n",
    "    return datetime.datetime.strptime(time, format_date)"
   ]
  },
  {
   "cell_type": "code",
   "execution_count": 4,
   "metadata": {},
   "outputs": [
    {
     "data": {
      "text/plain": [
       "'2022-05-06 13:56:01'"
      ]
     },
     "execution_count": 4,
     "metadata": {},
     "output_type": "execute_result"
    }
   ],
   "source": [
    "datetime2str(dt_now)"
   ]
  },
  {
   "cell_type": "code",
   "execution_count": 5,
   "metadata": {},
   "outputs": [
    {
     "data": {
      "text/plain": [
       "'2022-05-06 13:56:01'"
      ]
     },
     "execution_count": 5,
     "metadata": {},
     "output_type": "execute_result"
    }
   ],
   "source": [
    "dt_now.strftime(format_date)"
   ]
  },
  {
   "cell_type": "code",
   "execution_count": 6,
   "metadata": {},
   "outputs": [],
   "source": [
    "t2 = '2022-03-20 22:18:48'\n",
    "dt2 = datetime.datetime.strptime(t2, format_date)"
   ]
  },
  {
   "cell_type": "code",
   "execution_count": 7,
   "metadata": {},
   "outputs": [],
   "source": [
    "con = sqlite3.connect('example.db')\n",
    "c = con.cursor()"
   ]
  },
  {
   "cell_type": "code",
   "execution_count": 8,
   "metadata": {},
   "outputs": [
    {
     "ename": "OperationalError",
     "evalue": "table User2 already exists",
     "output_type": "error",
     "traceback": [
      "\u001b[0;31m---------------------------------------------------------------------------\u001b[0m",
      "\u001b[0;31mOperationalError\u001b[0m                          Traceback (most recent call last)",
      "\u001b[1;32m/home/yamada/Documents/twitchAI/spl_test.ipynb Cell 9'\u001b[0m in \u001b[0;36m<cell line: 1>\u001b[0;34m()\u001b[0m\n\u001b[0;32m----> <a href='vscode-notebook-cell://wsl%2Bubuntu-18.04/home/yamada/Documents/twitchAI/spl_test.ipynb#ch0000008vscode-remote?line=0'>1</a>\u001b[0m c\u001b[39m.\u001b[39;49mexecute(\u001b[39m'\u001b[39;49m\u001b[39mCREATE TABLE User2  (uid int, name varchar(512), like text, last datetime)\u001b[39;49m\u001b[39m'\u001b[39;49m)\n",
      "\u001b[0;31mOperationalError\u001b[0m: table User2 already exists"
     ]
    }
   ],
   "source": [
    "c.execute('CREATE TABLE User2  (uid int, name varchar(512), like text, last datetime)')"
   ]
  },
  {
   "cell_type": "code",
   "execution_count": null,
   "metadata": {},
   "outputs": [
    {
     "data": {
      "text/plain": [
       "<sqlite3.Cursor at 0x7f299112eab0>"
      ]
     },
     "execution_count": 16,
     "metadata": {},
     "output_type": "execute_result"
    }
   ],
   "source": [
    "c.execute(\"INSERT INTO User2 VALUES(2, '福間創', 'シンセサイザ', '{0}')\".format(datetime2str(dt_now)))"
   ]
  },
  {
   "cell_type": "code",
   "execution_count": null,
   "metadata": {},
   "outputs": [],
   "source": [
    "con.commit()"
   ]
  },
  {
   "cell_type": "code",
   "execution_count": 9,
   "metadata": {},
   "outputs": [],
   "source": [
    "def search_name(name:str):\n",
    "    q = 'SELECT * FROM User2 WHERE name=\"{0}\"'.format(name)\n",
    "    c.execute(q)\n",
    "    result = c.fetchall()\n",
    "    return result"
   ]
  },
  {
   "cell_type": "code",
   "execution_count": 10,
   "metadata": {},
   "outputs": [
    {
     "name": "stdout",
     "output_type": "stream",
     "text": [
      "[(1, '平沢進', 'ギター', '2022-03-22 22:21:05')]\n"
     ]
    }
   ],
   "source": [
    "print(search_name(\"平沢進\"))"
   ]
  },
  {
   "cell_type": "code",
   "execution_count": 11,
   "metadata": {},
   "outputs": [
    {
     "name": "stdout",
     "output_type": "stream",
     "text": [
      "46 days, 15:37:32.354414\n"
     ]
    }
   ],
   "source": [
    "print(datetime.datetime.now() - dt2)"
   ]
  }
 ],
 "metadata": {
  "interpreter": {
   "hash": "3b768359a65658dcda07a01f9fcd77d023c140b301dc2847ae2491657ec52602"
  },
  "kernelspec": {
   "display_name": "Python 3.8.8 ('twitchAI-AEfI_JA6')",
   "language": "python",
   "name": "python3"
  },
  "language_info": {
   "codemirror_mode": {
    "name": "ipython",
    "version": 3
   },
   "file_extension": ".py",
   "mimetype": "text/x-python",
   "name": "python",
   "nbconvert_exporter": "python",
   "pygments_lexer": "ipython3",
   "version": "3.8.8"
  },
  "orig_nbformat": 4
 },
 "nbformat": 4,
 "nbformat_minor": 2
}
