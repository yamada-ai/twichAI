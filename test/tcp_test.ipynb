{
 "cells": [
  {
   "cell_type": "code",
   "execution_count": 9,
   "metadata": {},
   "outputs": [
    {
     "ename": "ConnectionRefusedError",
     "evalue": "[Errno 111] Connection refused",
     "output_type": "error",
     "traceback": [
      "\u001b[0;31m---------------------------------------------------------------------------\u001b[0m",
      "\u001b[0;31mConnectionRefusedError\u001b[0m                    Traceback (most recent call last)",
      "\u001b[1;32m/home/yamada/Documents/twitchAI/test/tcp_test.ipynb Cell 1'\u001b[0m in \u001b[0;36m<cell line: 11>\u001b[0;34m()\u001b[0m\n\u001b[1;32m      <a href='vscode-notebook-cell://wsl%2Bubuntu-18.04/home/yamada/Documents/twitchAI/test/tcp_test.ipynb#ch0000000vscode-remote?line=7'>8</a>\u001b[0m tcp_client \u001b[39m=\u001b[39m socket\u001b[39m.\u001b[39msocket(socket\u001b[39m.\u001b[39mAF_INET, socket\u001b[39m.\u001b[39mSOCK_STREAM)\n\u001b[1;32m     <a href='vscode-notebook-cell://wsl%2Bubuntu-18.04/home/yamada/Documents/twitchAI/test/tcp_test.ipynb#ch0000000vscode-remote?line=9'>10</a>\u001b[0m \u001b[39m# 2.サーバに接続\u001b[39;00m\n\u001b[0;32m---> <a href='vscode-notebook-cell://wsl%2Bubuntu-18.04/home/yamada/Documents/twitchAI/test/tcp_test.ipynb#ch0000000vscode-remote?line=10'>11</a>\u001b[0m tcp_client\u001b[39m.\u001b[39;49mconnect((target_ip, target_port))\n\u001b[1;32m     <a href='vscode-notebook-cell://wsl%2Bubuntu-18.04/home/yamada/Documents/twitchAI/test/tcp_test.ipynb#ch0000000vscode-remote?line=12'>13</a>\u001b[0m \u001b[39m# 3.サーバにデータを送信\u001b[39;00m\n\u001b[1;32m     <a href='vscode-notebook-cell://wsl%2Bubuntu-18.04/home/yamada/Documents/twitchAI/test/tcp_test.ipynb#ch0000000vscode-remote?line=13'>14</a>\u001b[0m tcp_client\u001b[39m.\u001b[39msend(\u001b[39mb\u001b[39m\u001b[39m\"\u001b[39m\u001b[39mData by TCP Client!!\u001b[39m\u001b[39m\"\u001b[39m)\n",
      "\u001b[0;31mConnectionRefusedError\u001b[0m: [Errno 111] Connection refused"
     ]
    }
   ],
   "source": [
    "import socket\n",
    "\n",
    "target_ip = \"127.0.0.1\"\n",
    "target_port = 50008\n",
    "buffer_size = 256\n",
    "\n",
    "# 1.ソケットオブジェクトの作成\n",
    "tcp_client = socket.socket(socket.AF_INET, socket.SOCK_STREAM)\n",
    "\n",
    "# 2.サーバに接続\n",
    "tcp_client.connect((target_ip, target_port))\n",
    "\n",
    "# 3.サーバにデータを送信\n",
    "tcp_client.send(b\"Data by TCP Client!!\")\n",
    "\n",
    "# 4.サーバからのレスポンスを受信\n",
    "response = tcp_client.recv(buffer_size)\n",
    "print(\"[*]Received a response : {}\".format(response))"
   ]
  },
  {
   "cell_type": "code",
   "execution_count": 1,
   "metadata": {},
   "outputs": [
    {
     "name": "stdout",
     "output_type": "stream",
     "text": [
      "[*] Connected!! [ Source : ('127.0.0.1', 37550)]\n",
      "[*] Received Data : b'\\xe3\\x83\\x94\\xe3\\x82\\xab\\xe3\\x83\\x81\\xe3\\x83\\xa5\\xe3\\x82\\xa6'\n"
     ]
    },
    {
     "ename": "KeyboardInterrupt",
     "evalue": "",
     "output_type": "error",
     "traceback": [
      "\u001b[0;31m---------------------------------------------------------------------------\u001b[0m",
      "\u001b[0;31mKeyboardInterrupt\u001b[0m                         Traceback (most recent call last)",
      "\u001b[1;32m/home/yamada/Documents/twitchAI/test/tcp_test.ipynb Cell 2'\u001b[0m in \u001b[0;36m<cell line: 20>\u001b[0;34m()\u001b[0m\n\u001b[1;32m     <a href='vscode-notebook-cell://wsl%2Bubuntu-18.04/home/yamada/Documents/twitchAI/test/tcp_test.ipynb#ch0000001vscode-remote?line=16'>17</a>\u001b[0m \u001b[39m# 4.ループして接続を待ち続ける\u001b[39;00m\n\u001b[1;32m     <a href='vscode-notebook-cell://wsl%2Bubuntu-18.04/home/yamada/Documents/twitchAI/test/tcp_test.ipynb#ch0000001vscode-remote?line=17'>18</a>\u001b[0m \u001b[39mwhile\u001b[39;00m \u001b[39mTrue\u001b[39;00m:\n\u001b[1;32m     <a href='vscode-notebook-cell://wsl%2Bubuntu-18.04/home/yamada/Documents/twitchAI/test/tcp_test.ipynb#ch0000001vscode-remote?line=18'>19</a>\u001b[0m     \u001b[39m# 5.クライアントと接続する\u001b[39;00m\n\u001b[0;32m---> <a href='vscode-notebook-cell://wsl%2Bubuntu-18.04/home/yamada/Documents/twitchAI/test/tcp_test.ipynb#ch0000001vscode-remote?line=19'>20</a>\u001b[0m     client,address \u001b[39m=\u001b[39m tcp_server\u001b[39m.\u001b[39;49maccept()\n\u001b[1;32m     <a href='vscode-notebook-cell://wsl%2Bubuntu-18.04/home/yamada/Documents/twitchAI/test/tcp_test.ipynb#ch0000001vscode-remote?line=20'>21</a>\u001b[0m     \u001b[39mprint\u001b[39m(\u001b[39m\"\u001b[39m\u001b[39m[*] Connected!! [ Source : \u001b[39m\u001b[39m{}\u001b[39;00m\u001b[39m]\u001b[39m\u001b[39m\"\u001b[39m\u001b[39m.\u001b[39mformat(address))\n\u001b[1;32m     <a href='vscode-notebook-cell://wsl%2Bubuntu-18.04/home/yamada/Documents/twitchAI/test/tcp_test.ipynb#ch0000001vscode-remote?line=22'>23</a>\u001b[0m     \u001b[39m# 6.データを受信する\u001b[39;00m\n",
      "File \u001b[0;32m~/.pyenv/versions/3.8.8/lib/python3.8/socket.py:292\u001b[0m, in \u001b[0;36msocket.accept\u001b[0;34m(self)\u001b[0m\n\u001b[1;32m    <a href='file:///home/yamada/.pyenv/versions/3.8.8/lib/python3.8/socket.py?line=284'>285</a>\u001b[0m \u001b[39mdef\u001b[39;00m \u001b[39maccept\u001b[39m(\u001b[39mself\u001b[39m):\n\u001b[1;32m    <a href='file:///home/yamada/.pyenv/versions/3.8.8/lib/python3.8/socket.py?line=285'>286</a>\u001b[0m     \u001b[39m\"\"\"accept() -> (socket object, address info)\u001b[39;00m\n\u001b[1;32m    <a href='file:///home/yamada/.pyenv/versions/3.8.8/lib/python3.8/socket.py?line=286'>287</a>\u001b[0m \n\u001b[1;32m    <a href='file:///home/yamada/.pyenv/versions/3.8.8/lib/python3.8/socket.py?line=287'>288</a>\u001b[0m \u001b[39m    Wait for an incoming connection.  Return a new socket\u001b[39;00m\n\u001b[1;32m    <a href='file:///home/yamada/.pyenv/versions/3.8.8/lib/python3.8/socket.py?line=288'>289</a>\u001b[0m \u001b[39m    representing the connection, and the address of the client.\u001b[39;00m\n\u001b[1;32m    <a href='file:///home/yamada/.pyenv/versions/3.8.8/lib/python3.8/socket.py?line=289'>290</a>\u001b[0m \u001b[39m    For IP sockets, the address info is a pair (hostaddr, port).\u001b[39;00m\n\u001b[1;32m    <a href='file:///home/yamada/.pyenv/versions/3.8.8/lib/python3.8/socket.py?line=290'>291</a>\u001b[0m \u001b[39m    \"\"\"\u001b[39;00m\n\u001b[0;32m--> <a href='file:///home/yamada/.pyenv/versions/3.8.8/lib/python3.8/socket.py?line=291'>292</a>\u001b[0m     fd, addr \u001b[39m=\u001b[39m \u001b[39mself\u001b[39;49m\u001b[39m.\u001b[39;49m_accept()\n\u001b[1;32m    <a href='file:///home/yamada/.pyenv/versions/3.8.8/lib/python3.8/socket.py?line=292'>293</a>\u001b[0m     sock \u001b[39m=\u001b[39m socket(\u001b[39mself\u001b[39m\u001b[39m.\u001b[39mfamily, \u001b[39mself\u001b[39m\u001b[39m.\u001b[39mtype, \u001b[39mself\u001b[39m\u001b[39m.\u001b[39mproto, fileno\u001b[39m=\u001b[39mfd)\n\u001b[1;32m    <a href='file:///home/yamada/.pyenv/versions/3.8.8/lib/python3.8/socket.py?line=293'>294</a>\u001b[0m     \u001b[39m# Issue #7995: if no default timeout is set and the listening\u001b[39;00m\n\u001b[1;32m    <a href='file:///home/yamada/.pyenv/versions/3.8.8/lib/python3.8/socket.py?line=294'>295</a>\u001b[0m     \u001b[39m# socket had a (non-zero) timeout, force the new socket in blocking\u001b[39;00m\n\u001b[1;32m    <a href='file:///home/yamada/.pyenv/versions/3.8.8/lib/python3.8/socket.py?line=295'>296</a>\u001b[0m     \u001b[39m# mode to override platform-specific socket flags inheritance.\u001b[39;00m\n",
      "\u001b[0;31mKeyboardInterrupt\u001b[0m: "
     ]
    },
    {
     "ename": "",
     "evalue": "",
     "output_type": "error",
     "traceback": [
      "\u001b[1;31mThe Kernel crashed while executing code in the the current cell or a previous cell. Please review the code in the cell(s) to identify a possible cause of the failure. Click <a href='https://aka.ms/vscodeJupyterKernelCrash'>here</a> for more info. View Jupyter <a href='command:jupyter.viewOutput'>log</a> for further details."
     ]
    }
   ],
   "source": [
    "import socket\n",
    "\n",
    "server_ip = \"127.0.0.1\"\n",
    "server_port = 50009\n",
    "listen_num = 5\n",
    "buffer_size = 1024\n",
    "\n",
    "# 1.ソケットオブジェクトの作成\n",
    "tcp_server = socket.socket(socket.AF_INET, socket.SOCK_STREAM)\n",
    "\n",
    "# 2.作成したソケットオブジェクトにIPアドレスとポートを紐づける\n",
    "tcp_server.bind((server_ip, server_port))\n",
    "\n",
    "# 3.作成したオブジェクトを接続可能状態にする\n",
    "tcp_server.listen(listen_num)\n",
    "\n",
    "# 4.ループして接続を待ち続ける\n",
    "while True:\n",
    "    # 5.クライアントと接続する\n",
    "    client,address = tcp_server.accept()\n",
    "    print(\"[*] Connected!! [ Source : {}]\".format(address))\n",
    "\n",
    "    # 6.データを受信する\n",
    "    data = client.recv(buffer_size)\n",
    "    print(\"[*] Received Data : {}\".format(data.decode()))\n",
    "\n",
    "    # 7.クライアントへデータを返す\n",
    "    client.send(b\"ACK!!\")\n",
    "\n",
    "    # 8.接続を終了させる\n",
    "    client.close()"
   ]
  },
  {
   "cell_type": "code",
   "execution_count": null,
   "metadata": {},
   "outputs": [],
   "source": []
  }
 ],
 "metadata": {
  "interpreter": {
   "hash": "3b768359a65658dcda07a01f9fcd77d023c140b301dc2847ae2491657ec52602"
  },
  "kernelspec": {
   "display_name": "Python 3.8.8 ('twitchAI-AEfI_JA6')",
   "language": "python",
   "name": "python3"
  },
  "language_info": {
   "codemirror_mode": {
    "name": "ipython",
    "version": 3
   },
   "file_extension": ".py",
   "mimetype": "text/x-python",
   "name": "python",
   "nbconvert_exporter": "python",
   "pygments_lexer": "ipython3",
   "version": "3.8.8"
  },
  "orig_nbformat": 4
 },
 "nbformat": 4,
 "nbformat_minor": 2
}
