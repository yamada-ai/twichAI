{
 "cells": [
  {
   "cell_type": "code",
   "execution_count": 1,
   "metadata": {},
   "outputs": [
    {
     "name": "stderr",
     "output_type": "stream",
     "text": [
      "/home/yamada/.local/share/virtualenvs/twitchAI-AEfI_JA6/lib/python3.8/site-packages/tqdm/auto.py:22: TqdmWarning: IProgress not found. Please update jupyter and ipywidgets. See https://ipywidgets.readthedocs.io/en/stable/user_install.html\n",
      "  from .autonotebook import tqdm as notebook_tqdm\n"
     ]
    }
   ],
   "source": [
    "import os\n",
    "import sys\n",
    "from datatools.analyzer import *\n",
    "\n",
    "from datatools.maneger import DataManager\n",
    "import pandas as pd\n",
    "\n",
    "import csv\n",
    "import time\n",
    "\n",
    "import random\n",
    "random.seed(0)\n",
    "\n",
    "from transformer_model import *"
   ]
  },
  {
   "cell_type": "code",
   "execution_count": 2,
   "metadata": {},
   "outputs": [],
   "source": [
    "out_path = \"../corpus/novel_formated/\"\n",
    "corpus_name = \"novel_segments.tsv\""
   ]
  },
  {
   "cell_type": "code",
   "execution_count": 3,
   "metadata": {},
   "outputs": [],
   "source": [
    "import csv\n",
    "conv_data = []\n",
    "with open(out_path+corpus_name, \"r\") as f:\n",
    "    reader = csv.reader(f, delimiter=\"\\t\")\n",
    "    conv_data = [row for row in reader]"
   ]
  },
  {
   "cell_type": "code",
   "execution_count": 4,
   "metadata": {},
   "outputs": [],
   "source": [
    "# 状況，過去発話が追加された学習データを構築\n",
    "import copy\n",
    "def make_context_added_Src_Tgt(conv_data):\n",
    "\n",
    "    context_src_str = []\n",
    "    tgt_str = []\n",
    "    prev_utt = []\n",
    "    current_situation = [\"\"]\n",
    "    for conv in conv_data:\n",
    "        # 状況が変化したか\n",
    "        if current_situation[0] != conv[0]:\n",
    "            current_situation = conv[:-2]\n",
    "            # エラー対策\n",
    "            if current_situation==[]:\n",
    "                current_situation = [\"\"]\n",
    "            prev_utt = [conv[-2]]\n",
    "        \n",
    "        context_src_str.append([current_situation, copy.deepcopy(prev_utt) ])\n",
    "        prev_utt.append(conv[-1])\n",
    "        tgt_str.append(conv[-1])\n",
    "    \n",
    "    return context_src_str, tgt_str"
   ]
  },
  {
   "cell_type": "code",
   "execution_count": 5,
   "metadata": {},
   "outputs": [],
   "source": [
    "lim=20000\n",
    "src_str, tgt_str = make_context_added_Src_Tgt(conv_data)"
   ]
  },
  {
   "cell_type": "code",
   "execution_count": 6,
   "metadata": {},
   "outputs": [],
   "source": [
    "tokenizer_src = mecab_tokenize\n",
    "tokenizer_tgt = mecab_tokenize"
   ]
  },
  {
   "cell_type": "code",
   "execution_count": 7,
   "metadata": {},
   "outputs": [],
   "source": [
    "from collections import Counter\n",
    "from torchtext.vocab import Vocab\n",
    "\n",
    "def build_vocab(texts, tokenizer):\n",
    "    \n",
    "    counter = Counter()\n",
    "    for text in tqdm(texts):\n",
    "        counter.update(tokenizer(text))\n",
    "    return Vocab(counter, specials=['<unk>', '<pad>', '<fos>', '<eos>','<sep>', '<cxt>', '<del>'])"
   ]
  },
  {
   "cell_type": "code",
   "execution_count": 8,
   "metadata": {},
   "outputs": [
    {
     "name": "stdout",
     "output_type": "stream",
     "text": [
      "len=> src_train_val:16000, src_test:4000\n",
      "len=> src_train:14400, src_val:1600\n"
     ]
    }
   ],
   "source": [
    "src_trainval_str, src_test_str, tgt_trainval_str, tgt_test_str= train_test_split(src_str, tgt_str, test_size=0.20, random_state=5)\n",
    "print(\"len=> src_train_val:{0}, src_test:{1}\".format(len(src_trainval_str), len(src_test_str)))\n",
    "\n",
    "src_train_str, src_val_str, tgt_train_str, tgt_val_str= train_test_split(src_trainval_str, tgt_trainval_str, test_size=0.10, random_state=5)\n",
    "\n",
    "print(\"len=> src_train:{0}, src_val:{1}\".format(len(src_train_str), len(src_val_str)))"
   ]
  },
  {
   "cell_type": "code",
   "execution_count": 24,
   "metadata": {},
   "outputs": [],
   "source": [
    "src_train_str_ = src_train_str[:lim]\n",
    "tgt_train_str_ = tgt_train_str[:lim]\n",
    "src_val_str_ = src_val_str[:lim//10]\n",
    "tgt_val_str_ = tgt_val_str[:lim//10]"
   ]
  },
  {
   "cell_type": "code",
   "execution_count": 9,
   "metadata": {},
   "outputs": [],
   "source": [
    "src_train_str_set = list(set(sum(sum(src_train_str_, []), [])))"
   ]
  },
  {
   "cell_type": "code",
   "execution_count": 10,
   "metadata": {},
   "outputs": [
    {
     "name": "stderr",
     "output_type": "stream",
     "text": [
      "100%|██████████| 32144/32144 [00:01<00:00, 18492.07it/s]\n",
      "100%|██████████| 14400/14400 [00:00<00:00, 25314.33it/s]\n"
     ]
    }
   ],
   "source": [
    "vocab_src = build_vocab(src_train_str_set, tokenizer=tokenizer_src)\n",
    "vocab_tgt = build_vocab(tgt_train_str_, tokenizer=tokenizer_tgt)"
   ]
  },
  {
   "cell_type": "code",
   "execution_count": 11,
   "metadata": {},
   "outputs": [
    {
     "name": "stdout",
     "output_type": "stream",
     "text": [
      "success save : ../models/vocab/vocab_CModel_src_mini_lim=20000.pickle\n",
      "success save : ../models/vocab/vocab_CModel_src_mini_lim=20000.pickle\n",
      "success save : ../models/vocab/vocab_CModel_tgt_mini_lim=20000.pickle\n",
      "success save : ../models/vocab/vocab_CModel_tgt_mini_lim=20000.pickle\n"
     ]
    }
   ],
   "source": [
    "vocab_path = \"../models/vocab/\"\n",
    "vocab_name = \"vocab_CModel_src_mini_lim={0}.pickle\".format(lim)\n",
    "dictM = DataManager(vocab_path)\n",
    "dictM.save_data(vocab_name, vocab_src)\n",
    "vocab_name = \"vocab_CModel_tgt_mini_lim={0}.pickle\".format(lim)\n",
    "dictM.save_data(vocab_name, vocab_tgt)"
   ]
  },
  {
   "cell_type": "code",
   "execution_count": 12,
   "metadata": {},
   "outputs": [
    {
     "data": {
      "text/plain": [
       "1"
      ]
     },
     "execution_count": 12,
     "metadata": {},
     "output_type": "execute_result"
    }
   ],
   "source": [
    "PAD_IDX = vocab_src.stoi[\"<pad>\"]\n",
    "PAD_IDX"
   ]
  },
  {
   "cell_type": "code",
   "execution_count": 13,
   "metadata": {},
   "outputs": [],
   "source": [
    "filler_func_sep = lambda L: [*L, \"<sep>\"]\n",
    "def fill_SYMBOL_SEP(L):\n",
    "    sep = list(map(filler_func_sep, L[:-1]))\n",
    "    sep.append(L[-1])\n",
    "    return sep"
   ]
  },
  {
   "cell_type": "code",
   "execution_count": 14,
   "metadata": {},
   "outputs": [
    {
     "name": "stdout",
     "output_type": "stream",
     "text": [
      "[['私', '、', '和', '磨', 'さ', 'ん', 'の', 'や', 'さ', 'し', 'さ', 'に', '何', 'も', '返', 'せ', 'て', 'な', 'い', 'の', 'に', '。', 'そ', 'れ', 'に', '昨', '日', 'だ', 'っ', 'て', '。', '<sep>'], ['和', '磨', 'さ', 'ん', 'は', '拭', 'い', 'て', 'い', 'た', 'お', '皿', 'を', '極', 'め', 'て', '慎', '重', 'に', '食', '器', '棚', 'の', '中', 'へ', 'し', 'ま', 'う', 'と', '、', '私', 'に', '向', 'き', '直', 'っ', 'た', '。', '<sep>'], '私が聞くと、和磨さんは顔を真っ赤にした。']\n"
     ]
    },
    {
     "data": {
      "text/plain": [
       "['私、和磨さんのやさしさに何も返せてないのに。それに昨日だって。',\n",
       " '和磨さんは拭いていたお皿を極めて慎重に食器棚の中へしまうと、私に向き直った。',\n",
       " '私が聞くと、和磨さんは顔を真っ赤にした。']"
      ]
     },
     "execution_count": 14,
     "metadata": {},
     "output_type": "execute_result"
    }
   ],
   "source": [
    "print(fill_SYMBOL_SEP(src_train_str[0][0]))\n",
    "src_train_str[0][0]"
   ]
  },
  {
   "cell_type": "code",
   "execution_count": 15,
   "metadata": {},
   "outputs": [],
   "source": [
    "def data_process(texts_src, texts_tgt, vocab_src, vocab_tgt, tokenizer_src, tokenizer_tgt):\n",
    "    \n",
    "    data = []\n",
    "    for (src, tgt) in zip(texts_src, texts_tgt):\n",
    "        src_tensor = torch.tensor(\n",
    "            convert_text_to_indexes(text=src, vocab=vocab_src, tokenizer=tokenizer_src, mode=\"src\"),\n",
    "            dtype=torch.long\n",
    "        )\n",
    "        tgt_tensor = torch.tensor(\n",
    "            convert_text_to_indexes(text=tgt, vocab=vocab_tgt, tokenizer=tokenizer_tgt, mode=\"tgt\"),\n",
    "            dtype=torch.long\n",
    "        )\n",
    "        data.append((src_tensor, tgt_tensor))\n",
    "        \n",
    "    return data\n",
    "\n",
    "def convert_text_to_indexes(text, vocab, tokenizer, mode=\"src\"):\n",
    "    if mode==\"src\":\n",
    "        sit = text[0]\n",
    "        segments = [vocab['<sep>']]\n",
    "        for s in sit:\n",
    "            segments += [vocab[token] for token in tokenizer(s.strip(\"\\n\"))] + [vocab['<sep>']]\n",
    "        # 最後消す\n",
    "        segments[-1] = vocab['<cxt>']\n",
    "        utt = text[1]\n",
    "        for u in utt:\n",
    "            segments += [vocab[token] for token in tokenizer(u.strip(\"\\n\"))] + [vocab['<cxt>']]\n",
    "        return segments\n",
    "    # \n",
    "    elif mode==\"tgt\":\n",
    "        return [vocab['<fos>']] + [\n",
    "            vocab[token] for token in tokenizer(text.strip(\"\\n\"))\n",
    "        ] + [vocab['<eos>']]\n",
    "    else:\n",
    "        return []\n",
    "        "
   ]
  },
  {
   "cell_type": "code",
   "execution_count": 16,
   "metadata": {},
   "outputs": [],
   "source": [
    "src = src_train_str[0]"
   ]
  },
  {
   "cell_type": "code",
   "execution_count": 17,
   "metadata": {},
   "outputs": [],
   "source": [
    "train_data = data_process(\n",
    "    texts_src=src_train_str_, texts_tgt=tgt_train_str,\n",
    "    vocab_src=vocab_src, vocab_tgt=vocab_tgt,\n",
    "    tokenizer_src=tokenizer_src, tokenizer_tgt=tokenizer_tgt\n",
    ")\n",
    "valid_data = data_process(\n",
    "    texts_src=src_val_str_, texts_tgt=tgt_val_str_,\n",
    "    vocab_src=vocab_src, vocab_tgt=vocab_tgt,\n",
    "    tokenizer_src=tokenizer_src, tokenizer_tgt=tokenizer_tgt\n",
    ")"
   ]
  },
  {
   "cell_type": "code",
   "execution_count": 18,
   "metadata": {},
   "outputs": [],
   "source": [
    "batch_size = 128\n",
    "batch_size = 8\n",
    "PAD_IDX = vocab_src['<pad>']\n",
    "START_IDX = vocab_src['<fos>']\n",
    "END_IDX = vocab_src['<eos>']"
   ]
  },
  {
   "cell_type": "code",
   "execution_count": 19,
   "metadata": {},
   "outputs": [],
   "source": [
    "def generate_batch(data_batch):\n",
    "    \n",
    "    batch_src, batch_tgt = [], []\n",
    "    for src, tgt in data_batch:\n",
    "        batch_src.append(src)\n",
    "        batch_tgt.append(tgt)\n",
    "        \n",
    "    # batch_src = pad_sequence(batch_src, padding_value=PAD_IDX, batch_first=True)\n",
    "    # batch_tgt = pad_sequence(batch_tgt, padding_value=PAD_IDX, batch_first=True)\n",
    "    batch_src = pad_sequence(batch_src, padding_value=PAD_IDX, batch_first=False)\n",
    "    batch_tgt = pad_sequence(batch_tgt, padding_value=PAD_IDX, batch_first=False)\n",
    "    \n",
    "    return batch_src, batch_tgt"
   ]
  },
  {
   "cell_type": "code",
   "execution_count": 20,
   "metadata": {},
   "outputs": [],
   "source": [
    "train_iter = DataLoader(train_data, batch_size=batch_size, shuffle=True, collate_fn=generate_batch)\n",
    "valid_iter = DataLoader(valid_data, batch_size=batch_size, shuffle=True, collate_fn=generate_batch)"
   ]
  },
  {
   "cell_type": "code",
   "execution_count": 21,
   "metadata": {},
   "outputs": [],
   "source": [
    "def train(model, data, optimizer, criterion, PAD_IDX):\n",
    "    \n",
    "    model.train()\n",
    "    losses = 0\n",
    "    for src, tgt in tqdm(data):\n",
    "        \n",
    "        src = src.to(device)\n",
    "        tgt = tgt.to(device)\n",
    "\n",
    "        input_tgt = tgt[:-1, :]\n",
    "\n",
    "        mask_src, mask_tgt, padding_mask_src, padding_mask_tgt = create_mask(src, input_tgt, PAD_IDX)\n",
    "\n",
    "        # print(src.shape, tgt.shape)\n",
    "\n",
    "        logits = model(\n",
    "            src=src, tgt=input_tgt,\n",
    "            mask_src=mask_src, mask_tgt=mask_tgt,\n",
    "            padding_mask_src=padding_mask_src, padding_mask_tgt=padding_mask_tgt,\n",
    "            memory_key_padding_mask=padding_mask_src\n",
    "        )\n",
    "\n",
    "        optimizer.zero_grad()\n",
    "\n",
    "        output_tgt = tgt[1:, :]\n",
    "        loss = criterion(logits.reshape(-1, logits.shape[-1]), output_tgt.reshape(-1))\n",
    "        loss.backward()\n",
    "\n",
    "        optimizer.step()\n",
    "        losses += loss.item()\n",
    "\n",
    "        del logits\n",
    "        del loss\n",
    "        \n",
    "    return losses / len(data)\n",
    "\n",
    "\n",
    "def evaluate(model, data, criterion, PAD_IDX):\n",
    "    \n",
    "    model.eval()\n",
    "    losses = 0\n",
    "    for src, tgt in data:\n",
    "        \n",
    "        src = src.to(device)\n",
    "        tgt = tgt.to(device)\n",
    "\n",
    "        input_tgt = tgt[:-1, :]\n",
    "\n",
    "        mask_src, mask_tgt, padding_mask_src, padding_mask_tgt = create_mask(src, input_tgt, PAD_IDX)\n",
    "\n",
    "        logits = model(\n",
    "            src=src, tgt=input_tgt,\n",
    "            mask_src=mask_src, mask_tgt=mask_tgt,\n",
    "            padding_mask_src=padding_mask_src, padding_mask_tgt=padding_mask_tgt,\n",
    "            memory_key_padding_mask=padding_mask_src\n",
    "        )\n",
    "        \n",
    "        output_tgt = tgt[1:, :]\n",
    "        loss = criterion(logits.reshape(-1, logits.shape[-1]), output_tgt.reshape(-1))\n",
    "        losses += loss.item()\n",
    "        \n",
    "    return losses / len(data)"
   ]
  },
  {
   "cell_type": "code",
   "execution_count": 22,
   "metadata": {},
   "outputs": [],
   "source": [
    "vocab_size_src = len(vocab_src)\n",
    "vocab_size_tgt = len(vocab_tgt)\n",
    "embedding_size = 320\n",
    "nhead = 8\n",
    "dim_feedforward = 100\n",
    "num_encoder_layers = 4\n",
    "num_decoder_layers = 4\n",
    "dropout = 0.1\n",
    "\n",
    "model = Seq2SeqTransformer(\n",
    "    num_encoder_layers=num_encoder_layers,\n",
    "    num_decoder_layers=num_decoder_layers,\n",
    "    embedding_size=embedding_size,\n",
    "    vocab_size_src=vocab_size_src, vocab_size_tgt=vocab_size_tgt,\n",
    "    dim_feedforward=dim_feedforward,\n",
    "    dropout=dropout, nhead=nhead,\n",
    "    PAD_IDX=PAD_IDX\n",
    ")\n",
    "\n",
    "for p in model.parameters():\n",
    "    if p.dim() > 1:\n",
    "        nn.init.xavier_uniform_(p)\n",
    "\n",
    "model = model.to(device)\n",
    "\n",
    "criterion = torch.nn.CrossEntropyLoss(ignore_index=PAD_IDX)\n",
    "\n",
    "optimizer = torch.optim.Adam(model.parameters())"
   ]
  },
  {
   "cell_type": "code",
   "execution_count": 23,
   "metadata": {},
   "outputs": [
    {
     "name": "stderr",
     "output_type": "stream",
     "text": [
      " 15%|█▍        | 269/1800 [00:56<05:20,  4.78it/s]\n"
     ]
    },
    {
     "ename": "KeyboardInterrupt",
     "evalue": "",
     "output_type": "error",
     "traceback": [
      "\u001b[0;31m---------------------------------------------------------------------------\u001b[0m",
      "\u001b[0;31mKeyboardInterrupt\u001b[0m                         Traceback (most recent call last)",
      "\u001b[1;32m/home/yamada/Documents/twitchAI/train/ContextModel.ipynb Cell 23'\u001b[0m in \u001b[0;36m<cell line: 9>\u001b[0;34m()\u001b[0m\n\u001b[1;32m      <a href='vscode-notebook-cell://wsl%2Bubuntu-18.04/home/yamada/Documents/twitchAI/train/ContextModel.ipynb#ch0000024vscode-remote?line=8'>9</a>\u001b[0m \u001b[39mfor\u001b[39;00m loop \u001b[39min\u001b[39;00m \u001b[39mrange\u001b[39m(\u001b[39m1\u001b[39m, epoch \u001b[39m+\u001b[39m \u001b[39m1\u001b[39m):\n\u001b[1;32m     <a href='vscode-notebook-cell://wsl%2Bubuntu-18.04/home/yamada/Documents/twitchAI/train/ContextModel.ipynb#ch0000024vscode-remote?line=10'>11</a>\u001b[0m     start_time \u001b[39m=\u001b[39m time\u001b[39m.\u001b[39mtime()\n\u001b[0;32m---> <a href='vscode-notebook-cell://wsl%2Bubuntu-18.04/home/yamada/Documents/twitchAI/train/ContextModel.ipynb#ch0000024vscode-remote?line=12'>13</a>\u001b[0m     loss_train \u001b[39m=\u001b[39m train(\n\u001b[1;32m     <a href='vscode-notebook-cell://wsl%2Bubuntu-18.04/home/yamada/Documents/twitchAI/train/ContextModel.ipynb#ch0000024vscode-remote?line=13'>14</a>\u001b[0m         model\u001b[39m=\u001b[39;49mmodel, data\u001b[39m=\u001b[39;49mtrain_iter, optimizer\u001b[39m=\u001b[39;49moptimizer,\n\u001b[1;32m     <a href='vscode-notebook-cell://wsl%2Bubuntu-18.04/home/yamada/Documents/twitchAI/train/ContextModel.ipynb#ch0000024vscode-remote?line=14'>15</a>\u001b[0m         criterion\u001b[39m=\u001b[39;49mcriterion, PAD_IDX\u001b[39m=\u001b[39;49mPAD_IDX\n\u001b[1;32m     <a href='vscode-notebook-cell://wsl%2Bubuntu-18.04/home/yamada/Documents/twitchAI/train/ContextModel.ipynb#ch0000024vscode-remote?line=15'>16</a>\u001b[0m     )\n\u001b[1;32m     <a href='vscode-notebook-cell://wsl%2Bubuntu-18.04/home/yamada/Documents/twitchAI/train/ContextModel.ipynb#ch0000024vscode-remote?line=17'>18</a>\u001b[0m     elapsed_time \u001b[39m=\u001b[39m time\u001b[39m.\u001b[39mtime() \u001b[39m-\u001b[39m start_time\n\u001b[1;32m     <a href='vscode-notebook-cell://wsl%2Bubuntu-18.04/home/yamada/Documents/twitchAI/train/ContextModel.ipynb#ch0000024vscode-remote?line=19'>20</a>\u001b[0m     loss_valid \u001b[39m=\u001b[39m evaluate(\n\u001b[1;32m     <a href='vscode-notebook-cell://wsl%2Bubuntu-18.04/home/yamada/Documents/twitchAI/train/ContextModel.ipynb#ch0000024vscode-remote?line=20'>21</a>\u001b[0m         model\u001b[39m=\u001b[39mmodel, data\u001b[39m=\u001b[39mvalid_iter, criterion\u001b[39m=\u001b[39mcriterion, PAD_IDX\u001b[39m=\u001b[39mPAD_IDX\n\u001b[1;32m     <a href='vscode-notebook-cell://wsl%2Bubuntu-18.04/home/yamada/Documents/twitchAI/train/ContextModel.ipynb#ch0000024vscode-remote?line=21'>22</a>\u001b[0m     )\n",
      "\u001b[1;32m/home/yamada/Documents/twitchAI/train/ContextModel.ipynb Cell 21'\u001b[0m in \u001b[0;36mtrain\u001b[0;34m(model, data, optimizer, criterion, PAD_IDX)\u001b[0m\n\u001b[1;32m     <a href='vscode-notebook-cell://wsl%2Bubuntu-18.04/home/yamada/Documents/twitchAI/train/ContextModel.ipynb#ch0000022vscode-remote?line=24'>25</a>\u001b[0m output_tgt \u001b[39m=\u001b[39m tgt[\u001b[39m1\u001b[39m:, :]\n\u001b[1;32m     <a href='vscode-notebook-cell://wsl%2Bubuntu-18.04/home/yamada/Documents/twitchAI/train/ContextModel.ipynb#ch0000022vscode-remote?line=25'>26</a>\u001b[0m loss \u001b[39m=\u001b[39m criterion(logits\u001b[39m.\u001b[39mreshape(\u001b[39m-\u001b[39m\u001b[39m1\u001b[39m, logits\u001b[39m.\u001b[39mshape[\u001b[39m-\u001b[39m\u001b[39m1\u001b[39m]), output_tgt\u001b[39m.\u001b[39mreshape(\u001b[39m-\u001b[39m\u001b[39m1\u001b[39m))\n\u001b[0;32m---> <a href='vscode-notebook-cell://wsl%2Bubuntu-18.04/home/yamada/Documents/twitchAI/train/ContextModel.ipynb#ch0000022vscode-remote?line=26'>27</a>\u001b[0m loss\u001b[39m.\u001b[39;49mbackward()\n\u001b[1;32m     <a href='vscode-notebook-cell://wsl%2Bubuntu-18.04/home/yamada/Documents/twitchAI/train/ContextModel.ipynb#ch0000022vscode-remote?line=28'>29</a>\u001b[0m optimizer\u001b[39m.\u001b[39mstep()\n\u001b[1;32m     <a href='vscode-notebook-cell://wsl%2Bubuntu-18.04/home/yamada/Documents/twitchAI/train/ContextModel.ipynb#ch0000022vscode-remote?line=29'>30</a>\u001b[0m losses \u001b[39m+\u001b[39m\u001b[39m=\u001b[39m loss\u001b[39m.\u001b[39mitem()\n",
      "File \u001b[0;32m~/.local/share/virtualenvs/twitchAI-AEfI_JA6/lib/python3.8/site-packages/torch/tensor.py:245\u001b[0m, in \u001b[0;36mTensor.backward\u001b[0;34m(self, gradient, retain_graph, create_graph, inputs)\u001b[0m\n\u001b[1;32m    <a href='file:///home/yamada/.local/share/virtualenvs/twitchAI-AEfI_JA6/lib/python3.8/site-packages/torch/tensor.py?line=235'>236</a>\u001b[0m \u001b[39mif\u001b[39;00m has_torch_function_unary(\u001b[39mself\u001b[39m):\n\u001b[1;32m    <a href='file:///home/yamada/.local/share/virtualenvs/twitchAI-AEfI_JA6/lib/python3.8/site-packages/torch/tensor.py?line=236'>237</a>\u001b[0m     \u001b[39mreturn\u001b[39;00m handle_torch_function(\n\u001b[1;32m    <a href='file:///home/yamada/.local/share/virtualenvs/twitchAI-AEfI_JA6/lib/python3.8/site-packages/torch/tensor.py?line=237'>238</a>\u001b[0m         Tensor\u001b[39m.\u001b[39mbackward,\n\u001b[1;32m    <a href='file:///home/yamada/.local/share/virtualenvs/twitchAI-AEfI_JA6/lib/python3.8/site-packages/torch/tensor.py?line=238'>239</a>\u001b[0m         (\u001b[39mself\u001b[39m,),\n\u001b[0;32m   (...)\u001b[0m\n\u001b[1;32m    <a href='file:///home/yamada/.local/share/virtualenvs/twitchAI-AEfI_JA6/lib/python3.8/site-packages/torch/tensor.py?line=242'>243</a>\u001b[0m         create_graph\u001b[39m=\u001b[39mcreate_graph,\n\u001b[1;32m    <a href='file:///home/yamada/.local/share/virtualenvs/twitchAI-AEfI_JA6/lib/python3.8/site-packages/torch/tensor.py?line=243'>244</a>\u001b[0m         inputs\u001b[39m=\u001b[39minputs)\n\u001b[0;32m--> <a href='file:///home/yamada/.local/share/virtualenvs/twitchAI-AEfI_JA6/lib/python3.8/site-packages/torch/tensor.py?line=244'>245</a>\u001b[0m torch\u001b[39m.\u001b[39;49mautograd\u001b[39m.\u001b[39;49mbackward(\u001b[39mself\u001b[39;49m, gradient, retain_graph, create_graph, inputs\u001b[39m=\u001b[39;49minputs)\n",
      "File \u001b[0;32m~/.local/share/virtualenvs/twitchAI-AEfI_JA6/lib/python3.8/site-packages/torch/autograd/__init__.py:145\u001b[0m, in \u001b[0;36mbackward\u001b[0;34m(tensors, grad_tensors, retain_graph, create_graph, grad_variables, inputs)\u001b[0m\n\u001b[1;32m    <a href='file:///home/yamada/.local/share/virtualenvs/twitchAI-AEfI_JA6/lib/python3.8/site-packages/torch/autograd/__init__.py?line=141'>142</a>\u001b[0m \u001b[39mif\u001b[39;00m retain_graph \u001b[39mis\u001b[39;00m \u001b[39mNone\u001b[39;00m:\n\u001b[1;32m    <a href='file:///home/yamada/.local/share/virtualenvs/twitchAI-AEfI_JA6/lib/python3.8/site-packages/torch/autograd/__init__.py?line=142'>143</a>\u001b[0m     retain_graph \u001b[39m=\u001b[39m create_graph\n\u001b[0;32m--> <a href='file:///home/yamada/.local/share/virtualenvs/twitchAI-AEfI_JA6/lib/python3.8/site-packages/torch/autograd/__init__.py?line=144'>145</a>\u001b[0m Variable\u001b[39m.\u001b[39;49m_execution_engine\u001b[39m.\u001b[39;49mrun_backward(\n\u001b[1;32m    <a href='file:///home/yamada/.local/share/virtualenvs/twitchAI-AEfI_JA6/lib/python3.8/site-packages/torch/autograd/__init__.py?line=145'>146</a>\u001b[0m     tensors, grad_tensors_, retain_graph, create_graph, inputs,\n\u001b[1;32m    <a href='file:///home/yamada/.local/share/virtualenvs/twitchAI-AEfI_JA6/lib/python3.8/site-packages/torch/autograd/__init__.py?line=146'>147</a>\u001b[0m     allow_unreachable\u001b[39m=\u001b[39;49m\u001b[39mTrue\u001b[39;49;00m, accumulate_grad\u001b[39m=\u001b[39;49m\u001b[39mTrue\u001b[39;49;00m)\n",
      "\u001b[0;31mKeyboardInterrupt\u001b[0m: "
     ]
    }
   ],
   "source": [
    "import time\n",
    "\n",
    "epoch = 30\n",
    "best_loss = float('Inf')\n",
    "best_model = None\n",
    "patience = 10\n",
    "counter = 0\n",
    "\n",
    "for loop in range(1, epoch + 1):\n",
    "    \n",
    "    start_time = time.time()\n",
    "    \n",
    "    loss_train = train(\n",
    "        model=model, data=train_iter, optimizer=optimizer,\n",
    "        criterion=criterion, PAD_IDX=PAD_IDX\n",
    "    )\n",
    "    \n",
    "    elapsed_time = time.time() - start_time\n",
    "    \n",
    "    loss_valid = evaluate(\n",
    "        model=model, data=valid_iter, criterion=criterion, PAD_IDX=PAD_IDX\n",
    "    )\n",
    "    \n",
    "    print('[{}/{}] train loss: {:.2f}, valid loss: {:.2f}  [{}{:.0f}s] count: {}, {}'.format(\n",
    "        loop, epoch,\n",
    "        loss_train, loss_valid,\n",
    "        str(int(math.floor(elapsed_time / 60))) + 'm' if math.floor(elapsed_time / 60) > 0 else '',\n",
    "        elapsed_time % 60,\n",
    "        counter,\n",
    "        '**' if best_loss > loss_valid else ''\n",
    "    ))\n",
    "    \n",
    "    if best_loss > loss_valid:\n",
    "        best_loss = loss_valid\n",
    "        best_model = model\n",
    "        counter = 0\n",
    "        \n",
    "    if counter > patience:\n",
    "        break\n",
    "    \n",
    "    counter += 1"
   ]
  },
  {
   "cell_type": "code",
   "execution_count": null,
   "metadata": {},
   "outputs": [],
   "source": [
    "model_path = \"../models/transformer/\"\n",
    "model_name = \"CModel_lim={0}_best.pickle\".format(lim)\n",
    "modelM = DataManager(model_path)\n",
    "modelM.save_data(model_name, best_model)\n",
    "model_name = \"CModel_lim={0}.pickle\".format(lim)\n",
    "modelM.save_data(model_name, model)"
   ]
  }
 ],
 "metadata": {
  "interpreter": {
   "hash": "3b768359a65658dcda07a01f9fcd77d023c140b301dc2847ae2491657ec52602"
  },
  "kernelspec": {
   "display_name": "Python 3.8.8 ('twitchAI-AEfI_JA6')",
   "language": "python",
   "name": "python3"
  },
  "language_info": {
   "codemirror_mode": {
    "name": "ipython",
    "version": 3
   },
   "file_extension": ".py",
   "mimetype": "text/x-python",
   "name": "python",
   "nbconvert_exporter": "python",
   "pygments_lexer": "ipython3",
   "version": "3.8.8"
  },
  "orig_nbformat": 4
 },
 "nbformat": 4,
 "nbformat_minor": 2
}
