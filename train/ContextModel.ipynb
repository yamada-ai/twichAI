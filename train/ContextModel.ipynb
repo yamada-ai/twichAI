{
 "cells": [
  {
   "cell_type": "code",
   "execution_count": 2,
   "metadata": {},
   "outputs": [
    {
     "name": "stderr",
     "output_type": "stream",
     "text": [
      "/home/yamada/.local/share/virtualenvs/twichAI-ydQv36PI/lib/python3.8/site-packages/tqdm/auto.py:22: TqdmWarning: IProgress not found. Please update jupyter and ipywidgets. See https://ipywidgets.readthedocs.io/en/stable/user_install.html\n",
      "  from .autonotebook import tqdm as notebook_tqdm\n"
     ]
    }
   ],
   "source": [
    "import os\n",
    "import sys\n",
    "from datatools.analyzer import *\n",
    "\n",
    "from datatools.maneger import DataManager\n",
    "import pandas as pd\n",
    "\n",
    "import csv\n",
    "import time\n",
    "\n",
    "import random\n",
    "random.seed(0)\n",
    "\n",
    "from transformer_model import *"
   ]
  },
  {
   "cell_type": "code",
   "execution_count": 3,
   "metadata": {},
   "outputs": [],
   "source": [
    "out_path = \"../corpus/novel_formated/\"\n",
    "corpus_name = \"novel_segments2.tsv\""
   ]
  },
  {
   "cell_type": "code",
   "execution_count": 4,
   "metadata": {},
   "outputs": [],
   "source": [
    "import csv\n",
    "conv_data = []\n",
    "with open(out_path+corpus_name, \"r\") as f:\n",
    "    reader = csv.reader(f, delimiter=\"\\t\")\n",
    "    conv_data = [row for row in reader]"
   ]
  },
  {
   "cell_type": "code",
   "execution_count": 34,
   "metadata": {},
   "outputs": [],
   "source": [
    "# 状況，過去発話が追加された学習データを構築\n",
    "import copy\n",
    "def make_context_added_Src_Tgt(conv_data):\n",
    "\n",
    "    context_src_str = []\n",
    "    tgt_str = []\n",
    "    prev_utt = []\n",
    "    current_situation = [\"\"]\n",
    "    for conv in conv_data:\n",
    "        # 状況が変化したか\n",
    "        if current_situation[0] != conv[0]:\n",
    "            current_situation = conv[:-2]\n",
    "            # エラー対策\n",
    "            if current_situation==[]:\n",
    "                current_situation = [\"\"]\n",
    "            prev_utt = [conv[-2]]\n",
    "        \n",
    "        context_src_str.append([current_situation, copy.deepcopy(prev_utt) ])\n",
    "        prev_utt.append(conv[-1])\n",
    "        tgt_str.append(conv[-1])\n",
    "    \n",
    "    return context_src_str, tgt_str"
   ]
  },
  {
   "cell_type": "code",
   "execution_count": 51,
   "metadata": {},
   "outputs": [],
   "source": [
    "lim=1000\n",
    "src_str, tgt_str = make_context_added_Src_Tgt(conv_data[:lim])"
   ]
  },
  {
   "cell_type": "code",
   "execution_count": 54,
   "metadata": {},
   "outputs": [],
   "source": [
    "tokenizer_src = mecab_tokenize\n",
    "tokenizer_tgt = mecab_tokenize"
   ]
  },
  {
   "cell_type": "code",
   "execution_count": 63,
   "metadata": {},
   "outputs": [],
   "source": [
    "from collections import Counter\n",
    "from torchtext.vocab import Vocab\n",
    "\n",
    "def build_vocab(texts, tokenizer):\n",
    "    \n",
    "    counter = Counter()\n",
    "    for text in tqdm(texts):\n",
    "        counter.update(tokenizer(text))\n",
    "    return Vocab(counter, specials=['<unk>', '<pad>', '<fos>', '<eos>','<sep>', '<cxt>', '<del>'])"
   ]
  },
  {
   "cell_type": "code",
   "execution_count": 64,
   "metadata": {},
   "outputs": [
    {
     "name": "stdout",
     "output_type": "stream",
     "text": [
      "len=> src_train_val:800, src_test:200\n",
      "len=> src_train:720, src_val:80\n"
     ]
    }
   ],
   "source": [
    "src_trainval_str, src_test_str, tgt_trainval_str, tgt_test_str= train_test_split(src_str, tgt_str, test_size=0.20, random_state=5)\n",
    "print(\"len=> src_train_val:{0}, src_test:{1}\".format(len(src_trainval_str), len(src_test_str)))\n",
    "\n",
    "src_train_str, src_val_str, tgt_train_str, tgt_val_str= train_test_split(src_trainval_str, tgt_trainval_str, test_size=0.10, random_state=5)\n",
    "\n",
    "print(\"len=> src_train:{0}, src_val:{1}\".format(len(src_train_str), len(src_val_str)))"
   ]
  },
  {
   "cell_type": "code",
   "execution_count": 65,
   "metadata": {},
   "outputs": [],
   "source": [
    "src_train_str_set = list(set(sum(sum(src_train_str, []), [])))"
   ]
  },
  {
   "cell_type": "code",
   "execution_count": 66,
   "metadata": {},
   "outputs": [
    {
     "name": "stderr",
     "output_type": "stream",
     "text": [
      "100%|██████████| 1442/1442 [00:00<00:00, 7415.84it/s]\n",
      "100%|██████████| 720/720 [00:00<00:00, 21298.99it/s]\n"
     ]
    }
   ],
   "source": [
    "vocab_src = build_vocab(src_train_str_set, tokenizer=tokenizer_src)\n",
    "vocab_tgt = build_vocab(tgt_train_str, tokenizer=tokenizer_tgt)"
   ]
  },
  {
   "cell_type": "code",
   "execution_count": 67,
   "metadata": {},
   "outputs": [
    {
     "data": {
      "text/plain": [
       "1"
      ]
     },
     "execution_count": 67,
     "metadata": {},
     "output_type": "execute_result"
    }
   ],
   "source": [
    "PAD_IDX = vocab_src.stoi[\"<pad>\"]\n",
    "PAD_IDX"
   ]
  },
  {
   "cell_type": "code",
   "execution_count": null,
   "metadata": {},
   "outputs": [],
   "source": [
    "filler_func_sep = lambda L: [*L, \"<sep>\"]\n",
    "def fill_SYMBOL_SEP(L):\n",
    "    sep = list(map(filler_func_sep, L[:-1]))\n",
    "    sep.append(L[-1])\n",
    "    return sep"
   ]
  },
  {
   "cell_type": "code",
   "execution_count": 75,
   "metadata": {},
   "outputs": [
    {
     "name": "stdout",
     "output_type": "stream",
     "text": [
      "[['そ', 'う', '言', 'っ', 'て', '俺', 'は', '頭', 'を', '下', 'げ', 'た', '。', '[SEP]'], ['…', 'そ', 'し', 'て', '長', 'い', '長', 'い', '沈', '黙', 'が', '訪', 'れ', '。', 'み', 'ん', 'な', 'に', '見', '守', 'ら', 'れ', '。', '遂', 'に', '透', '子', 'ち', 'ゃ', 'ん', 'も', '折', 'れ', 'た', 'よ', 'う', 'で', '。', '[SEP]'], '半ギレながらも、俺と大会に出ることを了承してくれたんだ。']\n"
     ]
    },
    {
     "data": {
      "text/plain": [
       "['そう言って俺は頭を下げた。',\n",
       " '…そして長い長い沈黙が訪れ。みんなに見守られ。遂に透子ちゃんも折れたようで。',\n",
       " '半ギレながらも、俺と大会に出ることを了承してくれたんだ。']"
      ]
     },
     "execution_count": 75,
     "metadata": {},
     "output_type": "execute_result"
    }
   ],
   "source": [
    "print(fill_SYMBOL_SEP(src_train_str[0][0]))\n",
    "src_train_str[0][0]"
   ]
  },
  {
   "cell_type": "code",
   "execution_count": null,
   "metadata": {},
   "outputs": [],
   "source": [
    "def data_process(texts_src, texts_tgt, vocab_src, vocab_tgt, tokenizer_src, tokenizer_tgt):\n",
    "    \n",
    "    data = []\n",
    "    for (src, tgt) in zip(texts_src, texts_tgt):\n",
    "        src_tensor = torch.tensor(\n",
    "            convert_text_to_indexes(text=src, vocab=vocab_src, tokenizer=tokenizer_src, mode=\"src\"),\n",
    "            dtype=torch.long\n",
    "        )\n",
    "        tgt_tensor = torch.tensor(\n",
    "            convert_text_to_indexes(text=tgt, vocab=vocab_tgt, tokenizer=tokenizer_tgt, mode=\"tgt\"),\n",
    "            dtype=torch.long\n",
    "        )\n",
    "        data.append((src_tensor, tgt_tensor))\n",
    "        \n",
    "    return data\n",
    "\n",
    "def convert_text_to_indexes(text, vocab, tokenizer, mode=\"src\"):\n",
    "    if mode==\"src\":\n",
    "        sit = text[0]\n",
    "        segments = []\n",
    "        for s in sit:\n",
    "            segments += [vocab[token] for token in tokenizer(text.strip(\"\\n\"))] + [vocab['<sep>']]\n",
    "        # 最後消す\n",
    "        segments.pop()\n",
    "    # \n",
    "    elif mode==\"tgt\":\n",
    "        return [vocab['<fos>']] + [\n",
    "            vocab[token] for token in tokenizer(text.strip(\"\\n\"))\n",
    "        ] + [vocab['<eos>']]\n",
    "    else:\n",
    "        return []\n",
    "        "
   ]
  }
 ],
 "metadata": {
  "interpreter": {
   "hash": "6fe7309c4cab71bb1008430f5263f772fe9869be1cdc1336a1c2414f7fdb9423"
  },
  "kernelspec": {
   "display_name": "Python 3.8.8 ('twichAI-ydQv36PI')",
   "language": "python",
   "name": "python3"
  },
  "language_info": {
   "codemirror_mode": {
    "name": "ipython",
    "version": 3
   },
   "file_extension": ".py",
   "mimetype": "text/x-python",
   "name": "python",
   "nbconvert_exporter": "python",
   "pygments_lexer": "ipython3",
   "version": "3.8.8"
  },
  "orig_nbformat": 4
 },
 "nbformat": 4,
 "nbformat_minor": 2
}
