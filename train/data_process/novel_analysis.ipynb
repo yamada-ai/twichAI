{
 "cells": [
  {
   "cell_type": "code",
   "execution_count": 38,
   "metadata": {},
   "outputs": [],
   "source": [
    "import os\n",
    "import sys\n",
    "sys.path.append(\"../\")\n",
    "from datatools.analyzer import *\n",
    "\n",
    "from datatools.maneger import DataManager\n",
    "import pandas as pd"
   ]
  },
  {
   "cell_type": "code",
   "execution_count": 39,
   "metadata": {},
   "outputs": [],
   "source": [
    "text = \"彼の技術は極めて優れている\""
   ]
  },
  {
   "cell_type": "code",
   "execution_count": 40,
   "metadata": {},
   "outputs": [
    {
     "data": {
      "text/plain": [
       "[['彼', 'の', '技術', 'は', '極めて', '優れ', 'て', 'いる']]"
      ]
     },
     "execution_count": 40,
     "metadata": {},
     "output_type": "execute_result"
    }
   ],
   "source": [
    "sentence2morpheme(text)"
   ]
  },
  {
   "cell_type": "code",
   "execution_count": 41,
   "metadata": {},
   "outputs": [],
   "source": [
    "novel_path = \"../../corpus/novel2/\""
   ]
  },
  {
   "cell_type": "code",
   "execution_count": 42,
   "metadata": {},
   "outputs": [],
   "source": [
    "ncodes= [x  for x in os.listdir(novel_path) if \".\" not in x ]"
   ]
  },
  {
   "cell_type": "code",
   "execution_count": 43,
   "metadata": {},
   "outputs": [],
   "source": [
    "def format_EOS(sentence):\n",
    "    if sentence[-1] in [\"。\", \"?\", \"!\", \"．\"]:\n",
    "        return sentence\n",
    "    else:\n",
    "         return sentence+\"。\"\n",
    "\n",
    "def is_valid_utterance_segment(text:str)->bool:\n",
    "    # 複数の\"「\"には囲まれていない\n",
    "    if text.count(\"「\") == 1 and text.count(\"」\") == 1:\n",
    "        return True\n",
    "    return False"
   ]
  },
  {
   "cell_type": "code",
   "execution_count": 44,
   "metadata": {},
   "outputs": [],
   "source": [
    "# convs = []\n",
    "    # for text in tqdm(novel):\n",
    "        # if is_valid_utterance_segment(text):\n",
    "        #     utt = re.search(pattern, text).group()\n",
    "        #     utt = clean_text_plain(utt)\n",
    "        #     utt = format_EOS( utt )\n",
    "        #     convs.append(utt)\n",
    "        # print(text)\n",
    "    # print(convs)"
   ]
  },
  {
   "cell_type": "code",
   "execution_count": 55,
   "metadata": {},
   "outputs": [],
   "source": [
    "def clean_text_plain(text):\n",
    "    text_ = neologdn.normalize(text)\n",
    "    # text_ = re.sub(r'\\([^\\)]*\\)', \"\", text_)\n",
    "    text_ = re.sub(r'\\([^\\)]*\\)', \"\", text_)\n",
    "    text_ = re.sub(r'\\d+', \"0\", text_)\n",
    "    if \"……\" in text_:\n",
    "        text_ = text_.replace(\"……\", \"…\")\n",
    "    return text_"
   ]
  },
  {
   "cell_type": "code",
   "execution_count": 51,
   "metadata": {},
   "outputs": [],
   "source": [
    "# 1ページの小説をデータに変換\n",
    "import numpy as np\n",
    "pattern = '(?<=\\「).*(?=\\」)'\n",
    "def novel2data(novel:list):\n",
    "    data_list = []\n",
    "    \"\"\"\n",
    "    1 : 会話\n",
    "    0 : それ以外\n",
    "\n",
    "    011, 101, 111 の時に登録可能とする\n",
    "    \n",
    "    \"\"\"\n",
    "    # 1, 0 の登録\n",
    "    # zero_one_vector = np.zeros(len(novel))\n",
    "    zero_one = \"\"\n",
    "    novel_normalized = []\n",
    "    for i, line in enumerate(novel):\n",
    "        # 普通の発話なら1\n",
    "        if is_valid_utterance_segment(line):\n",
    "            zero_one += \"1\"\n",
    "            utt = re.search(pattern, line).group()\n",
    "            utt = clean_text_plain(utt)\n",
    "            utt = format_EOS( utt )\n",
    "            novel_normalized.append(utt)\n",
    "        else:\n",
    "            zero_one += \"0\"\n",
    "            novel_normalized.append(clean_text_plain(line))\n",
    "    # 部分を検索\n",
    "    for i in range(2, len(novel)):\n",
    "        comp = zero_one[i-3:i]\n",
    "        if \"011\" == comp:\n",
    "            print(comp)\n",
    "            print(novel_normalized[i-3:i])\n",
    "        elif \"101\" == comp:\n",
    "            print(comp)\n",
    "            print(novel_normalized[i-3], novel_normalized[i-1])\n",
    "        elif \"111\" == comp:\n",
    "            print(comp)\n",
    "            print(novel_normalized[i-2:i])\n",
    "        else:\n",
    "            pass"
   ]
  },
  {
   "cell_type": "code",
   "execution_count": 52,
   "metadata": {},
   "outputs": [
    {
     "name": "stdout",
     "output_type": "stream",
     "text": [
      "011\n",
      "['…それから。俺は彼女の思うがままにムダ毛を抜かれ、メイクをされ、髪を増やされて…完全にお人形さんの扱いを受けたんだ。最初の方はギャーギャーわめいていたけど、もう後半の方は叫ぶ気力すら残っていなかったよ。', '…はい、神谷君、完成だよ!我ながらいい出来かも!', 'こっちも終わったぞ、シュウイチ!見ろ!こんなにも毛が張り付いてるぞ!']\n",
      "101\n",
      "こっちも終わったぞ、シュウイチ!見ろ!こんなにも毛が張り付いてるぞ! ああ…やっと終わったんだな…この悪夢が…。\n",
      "101\n",
      "ああ…やっと終わったんだな…この悪夢が…。 ああ、待って神ちゃん、一回鏡見てよ!きっと目が覚めると思うからさ!\n",
      "101\n",
      "ああ、待って神ちゃん、一回鏡見てよ!きっと目が覚めると思うからさ! そんなこと言って…どうせアレでしょ?俺の顔がぐちゃぐちゃで『うわ、何だこの化け物!?』みたいな感じで目が覚めるヤツでしょ…?\n",
      "011\n",
      "['そこで花音ちゃんが両手広げて、俺の行く手を塞いできた。', 'そんなこと言って…どうせアレでしょ?俺の顔がぐちゃぐちゃで『うわ、何だこの化け物!?』みたいな感じで目が覚めるヤツでしょ…?', 'いーから早く見てってば!感想はその後!']\n",
      "101\n",
      "いーから早く見てってば!感想はその後! はぁ…見たくないって言ってるのにーって。えっ?\n",
      "101\n",
      "はぁ…見たくないって言ってるのにーって。えっ? …えっ、えっ?へっ?\n",
      "101\n",
      "俺…!?こ、これが、俺なの…!? リアクションが完全に、魔法少女になった主人公のそれと同じだよ。\n",
      "011\n",
      "['改めてもう一度、俺は鏡を見てみる…何だかマジで可愛すぎて、笑いがこみ上げてくるんだけど。', 'ああ…ヤバイ!自分に惚れそうなんだけど!!', 'それはヤバイ。']\n",
      "111\n",
      "['それはヤバイ。', 'でも本当に似合ってるよ修一。人気アイドルになれるかもね?']\n",
      "111\n",
      "['でも本当に似合ってるよ修一。人気アイドルになれるかもね?', 'ホントに!? …ああ、でも俺歌下手だったわ。']\n",
      "111\n",
      "['ホントに!? …ああ、でも俺歌下手だったわ。', '何で真面目に考えてんだよ、オマエは!']\n",
      "101\n",
      "何で真面目に考えてんだよ、オマエは! あの、それで今更だけど…神谷君と朱里ちゃんはいつ頃デートに行くの?\n",
      "011\n",
      "['透子ちゃんの鋭いツッコミが入る。でも本当に歌さえどうにか出来れば、朱里ちゃんの隣に立つことだって、夢じゃないかもしれないな…? …流石にそれは、おこがまし過ぎただろうか…?', 'あの、それで今更だけど…神谷君と朱里ちゃんはいつ頃デートに行くの?', 'えっ?それはまだ全然決めてないけど…それ聞く意味ある?']\n",
      "111\n",
      "['えっ?それはまだ全然決めてないけど…それ聞く意味ある?', 'あるよ!だってメイクしたのは私なんだよ!']\n",
      "111\n",
      "['あるよ!だってメイクしたのは私なんだよ!', 'あ、そっか…。']\n",
      "011\n",
      "['そんな俺の脳内を読み取ったのだろうか、透子ちゃんはケロッと。', 'ならシュウイチ、今から行ってくればいいじゃないか。', 'えっ、今から!?']\n",
      "111\n",
      "['えっ、今から!?', 'ああ、まだ昼だし問題ないだろ?']\n",
      "101\n",
      "ああ、まだ昼だし問題ないだろ? でもまだ心の準備が…!\n",
      "101\n",
      "大丈夫ですよ。王子様はこんなにも可愛らしいんですから…それに私は、もしも王子様が女の子になったとしても、同じように愛せる自信がありますからね? 変な所で張り合わないで!\n",
      "101\n",
      "…えーと。じゃあ朱里ちゃんが良いなら今から行くけど…大丈夫? うん、いいよ。今日は何にも予定は無いし、晴れの予報みたいだし。お出かけには最適な日だってテレビで言ってたよ。\n",
      "011\n",
      "['すると朱里ちゃんは微笑んで。', 'うん、いいよ。今日は何にも予定は無いし、晴れの予報みたいだし。お出かけには最適な日だってテレビで言ってたよ。', 'そ、そっか。']\n",
      "011\n",
      "['…で。それから俺は出かける準備して、服装をバッチリと整えたのだった…もう拒否する素振りすら見せなくなった俺は、男として大切な何かが失われている気がするよ…', 'うーん。この絶対領域がエロティック。', 'そ、そんな見ないで!! …じゃあ行ってくるからね?']\n",
      "101\n",
      "そ、そんな見ないで!! …じゃあ行ってくるからね? じゃあシュウイチ。気を付けて行ってくるんだぞ?\n",
      "011\n",
      "['そして俺はみんなに軽く手を振って、出て行こうとしたんだ。そしたらみんなは、わざわざ玄関まで見送りに来てくれて。', 'じゃあシュウイチ。気を付けて行ってくるんだぞ?', 'うん。']\n",
      "111\n",
      "['うん。', 'そうですね、王子様お気をつけて。もう秋ですし、日が落ちるのも早くて危ないですから…暗くなる前に帰って来るんですよ?']\n",
      "111\n",
      "['そうですね、王子様お気をつけて。もう秋ですし、日が落ちるのも早くて危ないですから…暗くなる前に帰って来るんですよ?', 'うん。']\n",
      "101\n",
      "うん。 あ、そうだ!今日は晩御飯みんなで食べない?鍋とかどうかな?\n",
      "011\n",
      "['そして藤野ちゃんはポンと手を叩いて。', 'あ、そうだ!今日は晩御飯みんなで食べない?鍋とかどうかな?', 'おお、それはいいね!']\n",
      "111\n",
      "['おお、それはいいね!', 'でしょでしょ!花音ちゃんと一緒に作ろうかなって!だから…神谷君。冷めないうちに、早く帰って来てね?']\n",
      "111\n",
      "['でしょでしょ!花音ちゃんと一緒に作ろうかなって!だから…神谷君。冷めないうちに、早く帰って来てね?', 'ん?ああ、分かったよ!それじゃあ行こうか、朱里ちゃん!']\n",
      "111\n",
      "['ん?ああ、分かったよ!それじゃあ行こうか、朱里ちゃん!', 'う、うん。そ、そうだね、修一…!']\n"
     ]
    }
   ],
   "source": [
    "for ncode in ncodes:\n",
    "    for number in sorted(os.listdir(novel_path+ncode) ,reverse=True):\n",
    "        with open(novel_path+ncode+\"/\"+number, \"r\") as f:\n",
    "            novel = f.read().splitlines()\n",
    "            novel2data(novel)\n",
    "        break\n",
    "    break"
   ]
  },
  {
   "cell_type": "code",
   "execution_count": null,
   "metadata": {},
   "outputs": [],
   "source": []
  }
 ],
 "metadata": {
  "interpreter": {
   "hash": "31f2aee4e71d21fbe5cf8b01ff0e069b9275f58929596ceb00d14d90e3e16cd6"
  },
  "kernelspec": {
   "display_name": "Python 3.6.9 64-bit",
   "language": "python",
   "name": "python3"
  },
  "language_info": {
   "codemirror_mode": {
    "name": "ipython",
    "version": 3
   },
   "file_extension": ".py",
   "mimetype": "text/x-python",
   "name": "python",
   "nbconvert_exporter": "python",
   "pygments_lexer": "ipython3",
   "version": "3.6.9"
  },
  "orig_nbformat": 4
 },
 "nbformat": 4,
 "nbformat_minor": 2
}
