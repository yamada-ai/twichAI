{
 "cells": [
  {
   "cell_type": "code",
   "execution_count": 1,
   "metadata": {},
   "outputs": [
    {
     "name": "stderr",
     "output_type": "stream",
     "text": [
      "/home/yamada/.local/share/virtualenvs/twichAI-ydQv36PI/lib/python3.8/site-packages/tqdm/auto.py:22: TqdmWarning: IProgress not found. Please update jupyter and ipywidgets. See https://ipywidgets.readthedocs.io/en/stable/user_install.html\n",
      "  from .autonotebook import tqdm as notebook_tqdm\n"
     ]
    }
   ],
   "source": [
    "import os\n",
    "import sys\n",
    "from datatools.analyzer import *\n",
    "\n",
    "from datatools.maneger import DataManager\n",
    "import pandas as pd\n",
    "\n",
    "import csv\n",
    "import time\n",
    "\n",
    "import random\n",
    "random.seed(0)\n",
    "\n",
    "from collections import Counter\n",
    "from torchtext.vocab import Vocab\n",
    "\n",
    "import torch\n",
    "import torch.nn as nn\n",
    "from torch import Tensor\n",
    "from torch.nn import (\n",
    "    TransformerEncoder, TransformerDecoder,\n",
    "    TransformerEncoderLayer, TransformerDecoderLayer\n",
    ")\n",
    "from torch.nn.utils.rnn import pad_sequence\n",
    "from torch.utils.data import DataLoader\n",
    "\n",
    "import torch.nn.functional as F\n",
    "from torch.nn.modules import loss\n",
    "import torch.optim as optim\n",
    "import torch.nn.utils.rnn as rnn"
   ]
  },
  {
   "cell_type": "code",
   "execution_count": 2,
   "metadata": {},
   "outputs": [
    {
     "name": "stdout",
     "output_type": "stream",
     "text": [
      "success load : ../models/vocab/vocab_transformer_src_mini_lim=100000.pickle\n",
      "success load : ../models/vocab/vocab_transformer_src_mini_lim=100000.pickle\n",
      "success load : ../models/vocab/vocab_transformer_tgt_mini_lim=100000.pickle\n",
      "success load : ../models/vocab/vocab_transformer_tgt_mini_lim=100000.pickle\n"
     ]
    }
   ],
   "source": [
    "lim = 100000\n",
    "vocab_path = \"../models/vocab/\"\n",
    "vocab_name = \"vocab_transformer_src_mini_lim={0}.pickle\".format(lim)\n",
    "vocabM = DataManager(vocab_path)\n",
    "vocab_src = vocabM.load_data(vocab_name)\n",
    "vocab_name = \"vocab_transformer_tgt_mini_lim={0}.pickle\".format(lim)\n",
    "vocab_tgt = vocabM.load_data(vocab_name)\n",
    "\n",
    "PAD_IDX = vocab_src['<pad>']\n",
    "START_IDX = vocab_src['<fos>']\n",
    "END_IDX = vocab_src['<eos>']\n",
    "\n",
    "\n",
    "\n",
    "tokenizer_src = mecab_tokenize\n",
    "tokenizer_tgt = mecab_tokenize\n",
    "\n",
    "device = torch.device('cuda:0' if torch.cuda.is_available() else 'cpu')"
   ]
  },
  {
   "cell_type": "code",
   "execution_count": 13,
   "metadata": {},
   "outputs": [
    {
     "data": {
      "text/plain": [
       "1"
      ]
     },
     "execution_count": 13,
     "metadata": {},
     "output_type": "execute_result"
    }
   ],
   "source": [
    "PAD_IDX"
   ]
  },
  {
   "cell_type": "code",
   "execution_count": 3,
   "metadata": {},
   "outputs": [],
   "source": [
    "import math\n",
    "class TokenEmbedding(nn.Module):\n",
    "    \n",
    "    def __init__(self, vocab_size, embedding_size):\n",
    "        \n",
    "        super(TokenEmbedding, self).__init__()\n",
    "        self.embedding = nn.Embedding(vocab_size, embedding_size, padding_idx=PAD_IDX)\n",
    "        self.embedding_size = embedding_size\n",
    "        \n",
    "    def forward(self, tokens: Tensor):\n",
    "        return self.embedding(tokens.long()) * math.sqrt(self.embedding_size)\n",
    "    \n",
    "class PositionalEncoding(nn.Module):\n",
    "    \n",
    "    def __init__(self, embedding_size: int, dropout: float, maxlen: int = 5000):\n",
    "        super(PositionalEncoding, self).__init__()\n",
    "        \n",
    "        den = torch.exp(-torch.arange(0, embedding_size, 2) * math.log(10000) / embedding_size)\n",
    "        pos = torch.arange(0, maxlen).reshape(maxlen, 1)\n",
    "        embedding_pos = torch.zeros((maxlen, embedding_size))\n",
    "        embedding_pos[:, 0::2] = torch.sin(pos * den)\n",
    "        embedding_pos[:, 1::2] = torch.cos(pos * den)\n",
    "        embedding_pos = embedding_pos.unsqueeze(-2)\n",
    "\n",
    "        self.dropout = nn.Dropout(dropout)\n",
    "        self.register_buffer('embedding_pos', embedding_pos)\n",
    "\n",
    "    def forward(self, token_embedding: Tensor):\n",
    "        return self.dropout(token_embedding + self.embedding_pos[: token_embedding.size(0), :])\n",
    "\n",
    "def create_mask(src, tgt, PAD_IDX):\n",
    "    \n",
    "    seq_len_src = src.shape[0]\n",
    "    seq_len_tgt = tgt.shape[0]\n",
    "\n",
    "    mask_tgt = generate_square_subsequent_mask(seq_len_tgt, PAD_IDX)\n",
    "    mask_src = torch.zeros((seq_len_src, seq_len_src), device=device).type(torch.bool)\n",
    "\n",
    "    padding_mask_src = (src == PAD_IDX).transpose(0, 1)\n",
    "    padding_mask_tgt = (tgt == PAD_IDX).transpose(0, 1)\n",
    "    \n",
    "    return mask_src, mask_tgt, padding_mask_src, padding_mask_tgt\n",
    "\n",
    "def generate_square_subsequent_mask(seq_len, PAD_IDX):\n",
    "    mask = (torch.triu(torch.ones((seq_len, seq_len), device=device)) == 1).transpose(0, 1)\n",
    "    mask = mask.float().masked_fill(mask == 0, float('-inf')).masked_fill(mask == PAD_IDX, float(0.0))\n",
    "    return mask\n",
    "\n",
    "\n",
    "class Seq2SeqTransformer(nn.Module):\n",
    "    \n",
    "    def __init__(\n",
    "        self, num_encoder_layers: int, num_decoder_layers: int,\n",
    "        embedding_size: int, vocab_size_src: int, vocab_size_tgt: int,\n",
    "        dim_feedforward:int = 512, dropout:float = 0.1, nhead:int = 8\n",
    "        ):\n",
    "        \n",
    "        super(Seq2SeqTransformer, self).__init__()\n",
    "\n",
    "        self.token_embedding_src = TokenEmbedding(vocab_size_src, embedding_size)\n",
    "        self.positional_encoding = PositionalEncoding(embedding_size, dropout=dropout)\n",
    "        encoder_layer = TransformerEncoderLayer(\n",
    "            d_model=embedding_size, nhead=nhead, dim_feedforward=dim_feedforward\n",
    "        )\n",
    "        self.transformer_encoder = TransformerEncoder(encoder_layer, num_layers=num_encoder_layers)\n",
    "        \n",
    "        self.token_embedding_tgt = TokenEmbedding(vocab_size_tgt, embedding_size)\n",
    "        decoder_layer = TransformerDecoderLayer(\n",
    "            d_model=embedding_size, nhead=nhead, dim_feedforward=dim_feedforward\n",
    "        )\n",
    "        self.transformer_decoder = TransformerDecoder(decoder_layer, num_layers=num_decoder_layers)\n",
    "        \n",
    "        self.output = nn.Linear(embedding_size, vocab_size_tgt)\n",
    "\n",
    "    def forward(\n",
    "        self, src: Tensor, tgt: Tensor,\n",
    "        mask_src: Tensor, mask_tgt: Tensor,\n",
    "        padding_mask_src: Tensor, padding_mask_tgt: Tensor,\n",
    "        memory_key_padding_mask: Tensor\n",
    "        ):\n",
    "        \n",
    "        embedding_src = self.positional_encoding(self.token_embedding_src(src))\n",
    "        memory = self.transformer_encoder(embedding_src, mask_src, padding_mask_src)\n",
    "        embedding_tgt = self.positional_encoding(self.token_embedding_tgt(tgt))\n",
    "        outs = self.transformer_decoder(\n",
    "            embedding_tgt, memory, mask_tgt, None,\n",
    "            padding_mask_tgt, memory_key_padding_mask\n",
    "        )\n",
    "        return self.output(outs)\n",
    "\n",
    "    def encode(self, src: Tensor, mask_src: Tensor):\n",
    "        return self.transformer_encoder(self.positional_encoding(self.token_embedding_src(src)), mask_src)\n",
    "\n",
    "    def decode(self, tgt: Tensor, memory: Tensor, mask_tgt: Tensor):\n",
    "        return self.transformer_decoder(self.positional_encoding(self.token_embedding_tgt(tgt)), memory, mask_tgt)"
   ]
  },
  {
   "cell_type": "code",
   "execution_count": 4,
   "metadata": {},
   "outputs": [],
   "source": [
    "def clean_text_plain(text):\n",
    "    text_ = neologdn.normalize(text)\n",
    "    # text_ = re.sub(r'\\([^\\)]*\\)', \"\", text_)\n",
    "    # text_ = re.sub(r'\\([^\\)]*\\)', \"\", text_)\n",
    "    text_ = re.sub(r'\\d+', \"0\", text_)\n",
    "    if \"……\" in text_:\n",
    "        text_ = text_.replace(\"……\", \"…\")\n",
    "    return text_"
   ]
  },
  {
   "cell_type": "code",
   "execution_count": 5,
   "metadata": {},
   "outputs": [],
   "source": [
    "def convert_text_to_indexes(text, vocab, tokenizer):\n",
    "    return [vocab['<fos>']] + [\n",
    "        vocab[token] for token in tokenizer(text.strip(\"\\n\"))\n",
    "    ] + [vocab['<eos>']]\n",
    "\n",
    "def translate(\n",
    "    model, text, vocab_src, vocab_tgt, tokenizer_src, seq_len_tgt, PAD_IDX, \n",
    "    START_IDX, END_IDX\n",
    "):\n",
    "    \n",
    "    model.eval()\n",
    "    tokens = convert_text_to_indexes(text=text, vocab=vocab_src, tokenizer=tokenizer_src)\n",
    "    num_tokens = len(tokens)\n",
    "    src = torch.LongTensor(tokens).reshape(num_tokens, 1)\n",
    "    mask_src = (torch.zeros(num_tokens, num_tokens)).type(torch.bool) \n",
    "    # print(mask_src)\n",
    "    predicts = greedy_decode(\n",
    "        model=model, src=src,\n",
    "        mask_src=mask_src, seq_len_tgt=seq_len_tgt, PAD_IDX=PAD_IDX,\n",
    "        START_IDX=START_IDX, END_IDX=END_IDX\n",
    "    ).flatten()\n",
    "    \n",
    "    return ' '.join([vocab_tgt.itos[token] for token in predicts]).replace(\"<fos>\", \"\").replace(\"<eos>\", \"\")\n",
    "\n",
    "\n",
    "def greedy_decode(model, src, mask_src, seq_len_tgt, PAD_IDX, START_IDX, END_IDX):\n",
    "    \n",
    "    src = src.to(device)\n",
    "    mask_src = mask_src.to(device)\n",
    "\n",
    "    memory = model.encode(src, mask_src)\n",
    "    # print(memory.shape)\n",
    "    memory = model.transformer_encoder(model.positional_encoding(model.token_embedding_src(src)), mask_src)\n",
    "    ys = torch.ones(1, 1).fill_(START_IDX).type(torch.long).to(device)\n",
    "    # print(ys)\n",
    "    \n",
    "    for i in range(seq_len_tgt - 1):\n",
    "        memory = memory.to(device)\n",
    "        memory_mask = torch.zeros(ys.shape[0], memory.shape[0]).to(device).type(torch.bool)\n",
    "        mask_tgt = (generate_square_subsequent_mask(ys.size(0), PAD_IDX).type(torch.bool)).to(device)\n",
    "\n",
    "        output = model.decode(ys, memory, mask_tgt)\n",
    "        # print(output)\n",
    "        output = output.transpose(0, 1)\n",
    "        output = model.output(output[:, -1])\n",
    "        _, next_word = torch.max(output, dim = 1)\n",
    "        next_word = next_word.item()\n",
    "        # print(next_word)\n",
    "\n",
    "        ys = torch.cat([ys, torch.ones(1, 1).type_as(src.data).fill_(next_word)], dim=0)\n",
    "        if next_word == END_IDX:\n",
    "            break\n",
    "            \n",
    "    return ys"
   ]
  },
  {
   "cell_type": "code",
   "execution_count": 9,
   "metadata": {},
   "outputs": [
    {
     "name": "stdout",
     "output_type": "stream",
     "text": [
      "success load : ../models/transformer/transformer_lim=100000_.pickle\n",
      "success load : ../models/transformer/transformer_lim=100000_.pickle\n"
     ]
    }
   ],
   "source": [
    "model_path = \"../models/transformer/\"\n",
    "model_name = \"transformer_lim={0}_best.pickle\".format(lim)\n",
    "model_name = \"transformer_lim={0}_.pickle\".format(lim)\n",
    "modelM = DataManager(model_path)\n",
    "\n",
    "model = modelM.load_data(model_name)"
   ]
  },
  {
   "cell_type": "code",
   "execution_count": 12,
   "metadata": {},
   "outputs": [
    {
     "name": "stdout",
     "output_type": "stream",
     "text": [
      "おい、大丈夫か!\n"
     ]
    },
    {
     "data": {
      "text/plain": [
       "' … … … … … … … … … … … … … … … … … … …'"
      ]
     },
     "execution_count": 12,
     "metadata": {},
     "output_type": "execute_result"
    }
   ],
   "source": [
    "seq_len_tgt = 20\n",
    "\n",
    "text = clean_text_plain('おい、大丈夫か！')\n",
    "print(text)\n",
    "\n",
    "translate(\n",
    "    model=model, text=text, vocab_src=vocab_src, vocab_tgt=vocab_tgt,\n",
    "    tokenizer_src=tokenizer_src, seq_len_tgt=seq_len_tgt, PAD_IDX=PAD_IDX,\n",
    "    START_IDX=START_IDX, END_IDX=END_IDX\n",
    ")"
   ]
  },
  {
   "cell_type": "code",
   "execution_count": null,
   "metadata": {},
   "outputs": [],
   "source": []
  }
 ],
 "metadata": {
  "interpreter": {
   "hash": "6fe7309c4cab71bb1008430f5263f772fe9869be1cdc1336a1c2414f7fdb9423"
  },
  "kernelspec": {
   "display_name": "Python 3.8.8 ('twichAI-ydQv36PI')",
   "language": "python",
   "name": "python3"
  },
  "language_info": {
   "codemirror_mode": {
    "name": "ipython",
    "version": 3
   },
   "file_extension": ".py",
   "mimetype": "text/x-python",
   "name": "python",
   "nbconvert_exporter": "python",
   "pygments_lexer": "ipython3",
   "version": "3.8.8"
  },
  "orig_nbformat": 4
 },
 "nbformat": 4,
 "nbformat_minor": 2
}
