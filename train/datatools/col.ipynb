{
 "cells": [
  {
   "cell_type": "code",
   "execution_count": 4,
   "source": [
    "import numpy as np\n",
    "import os\n",
    "import json"
   ],
   "outputs": [],
   "metadata": {}
  },
  {
   "cell_type": "code",
   "execution_count": 2,
   "source": [
    "col_path = \"../../corpus/collocation/\""
   ],
   "outputs": [],
   "metadata": {}
  },
  {
   "cell_type": "code",
   "execution_count": 6,
   "source": [
    "dictname = \"ppmi_word_dict_filtered5.json\"\n",
    "ppmi_dataname = \"ppmi_data2\""
   ],
   "outputs": [],
   "metadata": {}
  },
  {
   "cell_type": "code",
   "execution_count": 8,
   "source": [
    "with open(col_path+ dictname, \"r\") as f:\n",
    "    word_dict = json.load(f)\n",
    "ppmi_matrix = np.load(col_path+ppmi_dataname+\".npy\")"
   ],
   "outputs": [],
   "metadata": {}
  },
  {
   "cell_type": "code",
   "execution_count": 59,
   "source": [
    "def ppmi(ppmi_matrix, word_dict, x, y):\n",
    "    if x not in word_dict.keys():\n",
    "        return 1e-3\n",
    "    elif y not in word_dict.keys():\n",
    "        return 1e-3\n",
    "\n",
    "    x_id = word_dict[x]\n",
    "    y_id = word_dict[y]\n",
    "    return ppmi_matrix[x_id, y_id] + 1e-3"
   ],
   "outputs": [],
   "metadata": {}
  },
  {
   "cell_type": "code",
   "execution_count": 60,
   "source": [
    "import re\n",
    "import neologdn\n",
    "def clean_split(text):\n",
    "    text_ = neologdn.normalize(text)\n",
    "    text_ = re.sub(r'\\(.*\\)', \"\", text_)\n",
    "    # text_ = re.sub(r'[!-/:-@[-`{-~]', r' ', text_)\n",
    "    # print(text_)\n",
    "    text_ = re.sub(r'\\d+', \"0\", text_)\n",
    "    splited  = [m.normalized_form()  for m in tokenizer_obj.tokenize(text_, tmode)]\n",
    "    return splited"
   ],
   "outputs": [],
   "metadata": {}
  },
  {
   "cell_type": "code",
   "execution_count": 64,
   "source": [
    "import unicodedata\n",
    "from sudachipy import tokenizer\n",
    "from sudachipy import dictionary\n",
    "\n",
    "tokenizer_obj = dictionary.Dictionary().create()\n",
    "tmode = tokenizer.Tokenizer.SplitMode.C\n",
    "def sentence2score(sentence):\n",
    "    splited = clean_split(sentence)\n",
    "    print(splited)\n",
    "    score = 0\n",
    "    for i in range(len(splited)-1):\n",
    "        # score += np.log(ppmi())\n",
    "        ppmi_score = ppmi(ppmi_matrix, word_dict, splited[i], splited[i+1])\n",
    "        print(splited[i], splited[i+1], ppmi_score)\n",
    "        score += np.log(ppmi_score)\n",
    "    return score/len(splited)"
   ],
   "outputs": [],
   "metadata": {}
  },
  {
   "cell_type": "code",
   "execution_count": 62,
   "source": [
    "ppmi(ppmi_matrix, word_dict, \"食う\", \"飯\")"
   ],
   "outputs": [
    {
     "output_type": "execute_result",
     "data": {
      "text/plain": [
       "9.230488372802734"
      ]
     },
     "metadata": {},
     "execution_count": 62
    }
   ],
   "metadata": {}
  },
  {
   "cell_type": "code",
   "execution_count": 66,
   "source": [
    "sentence2score(\"マツダスタジアムの球場グルメの泣ける！広島県は、すぐに売り切れるほど人気だそうです。\")"
   ],
   "outputs": [
    {
     "output_type": "stream",
     "name": "stdout",
     "text": [
      "['マツダ', 'スタジアム', 'の', '球場', 'グルメ', 'の', '泣く', '！', '広島県', 'は', '、', '直ぐ', 'に', '売り切れる', 'ほど', '人気', 'だ', 'そう', 'です', '。']\n",
      "マツダ スタジアム 7.028084350585938\n",
      "スタジアム の 0.35649452900886536\n",
      "の 球場 0.5500275025367737\n",
      "球場 グルメ 1.6252023706436156\n",
      "グルメ の 0.3597823808193207\n",
      "の 泣く 0.001\n",
      "泣く ！ 0.001\n",
      "！ 広島県 0.001\n",
      "広島県 は 0.001\n",
      "は 、 0.001\n",
      "、 直ぐ 0.001\n",
      "直ぐ に 1.9801624546051024\n",
      "に 売り切れる 0.001\n",
      "売り切れる ほど 0.001\n",
      "ほど 人気 0.001\n",
      "人気 だ 0.001\n",
      "だ そう 1.902555061340332\n",
      "そう です 4.4444137344360355\n",
      "です 。 0.001\n"
     ]
    },
    {
     "output_type": "execute_result",
     "data": {
      "text/plain": [
       "-3.669160812785667"
      ]
     },
     "metadata": {},
     "execution_count": 66
    }
   ],
   "metadata": {}
  },
  {
   "cell_type": "code",
   "execution_count": 68,
   "source": [
    "sentence2score(\"天気が外に出ますよね\")"
   ],
   "outputs": [
    {
     "output_type": "stream",
     "name": "stdout",
     "text": [
      "['天気', 'が', '外', 'に', '出る', 'ます', 'よ', 'ね']\n",
      "天気 が 0.03771760857105255\n",
      "が 外 0.001\n",
      "外 に 0.5399991402626038\n",
      "に 出る 0.001\n",
      "出る ます 0.001\n",
      "ます よ 0.001\n",
      "よ ね 7.637511325836182\n"
     ]
    },
    {
     "output_type": "execute_result",
     "data": {
      "text/plain": [
       "-3.686470657845047"
      ]
     },
     "metadata": {},
     "execution_count": 68
    }
   ],
   "metadata": {}
  },
  {
   "cell_type": "code",
   "execution_count": null,
   "source": [],
   "outputs": [],
   "metadata": {}
  }
 ],
 "metadata": {
  "orig_nbformat": 4,
  "language_info": {
   "name": "python",
   "version": "3.6.9",
   "mimetype": "text/x-python",
   "codemirror_mode": {
    "name": "ipython",
    "version": 3
   },
   "pygments_lexer": "ipython3",
   "nbconvert_exporter": "python",
   "file_extension": ".py"
  },
  "kernelspec": {
   "name": "python3",
   "display_name": "Python 3.6.9 64-bit"
  },
  "interpreter": {
   "hash": "31f2aee4e71d21fbe5cf8b01ff0e069b9275f58929596ceb00d14d90e3e16cd6"
  }
 },
 "nbformat": 4,
 "nbformat_minor": 2
}