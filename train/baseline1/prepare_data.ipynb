{
 "cells": [
  {
   "cell_type": "code",
   "execution_count": 1,
   "metadata": {},
   "outputs": [],
   "source": [
    "out_path = \"../../corpus/novel_formated/\"\n",
    "corpus_name = \"novel_segments2.tsv\""
   ]
  },
  {
   "cell_type": "code",
   "execution_count": 2,
   "metadata": {},
   "outputs": [],
   "source": [
    "import os\n",
    "import sys\n",
    "import numpy as np\n",
    "import pandas as pd"
   ]
  },
  {
   "cell_type": "code",
   "execution_count": 3,
   "metadata": {},
   "outputs": [],
   "source": [
    "import csv\n",
    "conv_data = []\n",
    "with open(out_path+corpus_name, \"r\") as f:\n",
    "    reader = csv.reader(f, delimiter=\"\\t\")\n",
    "    conv_data = [row for row in reader]"
   ]
  },
  {
   "cell_type": "code",
   "execution_count": 4,
   "metadata": {},
   "outputs": [],
   "source": [
    "conv_only_utt = [ [\"\".join(conv[-3:-1]), conv[-1]] for conv in conv_data]"
   ]
  },
  {
   "cell_type": "code",
   "execution_count": 5,
   "metadata": {},
   "outputs": [],
   "source": [
    "# トリプルの作成\n",
    "# アンカー，ポジティブ，ネガティブ\n",
    "import random\n",
    "random.seed(0)\n",
    "def make_triple(conv_data):\n",
    "    triple_list = []\n",
    "    last_utts = [ conv[-1] for conv in conv_data if len(conv[-1]) > 6 ]\n",
    "    neg_candidate = random.sample(last_utts, len(last_utts))\n",
    "    for conv, neg in zip(conv_data, neg_candidate):\n",
    "        # 短すぎる応答は殺す\n",
    "        if len(conv[1]) <= 6:\n",
    "            continue\n",
    "        triple_list.append( [*conv , neg] )\n",
    "\n",
    "    return triple_list\n",
    "\n"
   ]
  },
  {
   "cell_type": "code",
   "execution_count": 6,
   "metadata": {},
   "outputs": [],
   "source": [
    "triple_list = make_triple(conv_only_utt)"
   ]
  },
  {
   "cell_type": "code",
   "execution_count": 7,
   "metadata": {},
   "outputs": [
    {
     "data": {
      "text/plain": [
       "715320"
      ]
     },
     "execution_count": 7,
     "metadata": {},
     "output_type": "execute_result"
    }
   ],
   "source": [
    "len(triple_list)"
   ]
  },
  {
   "cell_type": "code",
   "execution_count": 16,
   "metadata": {},
   "outputs": [],
   "source": [
    "mini_size = 3000\n",
    "triple_list_mini = random.sample(triple_list,  mini_size)"
   ]
  },
  {
   "cell_type": "code",
   "execution_count": 17,
   "metadata": {},
   "outputs": [],
   "source": [
    "lasts = [ conv[-1] for conv in conv_only_utt if len(conv[-1]) > 6 ]"
   ]
  },
  {
   "cell_type": "code",
   "execution_count": 18,
   "metadata": {},
   "outputs": [],
   "source": [
    "def to_tsv(filename, triplet):\n",
    "    with open(filename, \"w\") as f:\n",
    "        lines = [\"{0}\\t{1}\\t{2}\".format(*tri) for tri in triplet]\n",
    "        f.write(\"\\n\".join(lines)+\"\\n\")"
   ]
  },
  {
   "cell_type": "code",
   "execution_count": 19,
   "metadata": {},
   "outputs": [],
   "source": [
    "# 学習用，検証用，テスト用の分割\n",
    "from sklearn.model_selection import train_test_split\n",
    "train, dev_test = train_test_split(triple_list_mini, train_size=0.8, random_state=4)\n",
    "dev, test = train_test_split(dev_test, train_size=0.5, random_state=7)"
   ]
  },
  {
   "cell_type": "code",
   "execution_count": 20,
   "metadata": {},
   "outputs": [],
   "source": [
    "data_path = \"../../corpus/coherence_sbert_data/\""
   ]
  },
  {
   "cell_type": "code",
   "execution_count": 21,
   "metadata": {},
   "outputs": [
    {
     "data": {
      "text/plain": [
       "2400"
      ]
     },
     "execution_count": 21,
     "metadata": {},
     "output_type": "execute_result"
    }
   ],
   "source": [
    "len(train)"
   ]
  },
  {
   "cell_type": "code",
   "execution_count": 22,
   "metadata": {},
   "outputs": [],
   "source": [
    "to_tsv(data_path+\"triplet_train.tsv\", train)\n",
    "to_tsv(data_path+\"triplet_dev.tsv\", dev)\n",
    "to_tsv(data_path+\"triplet_test.tsv\", test)"
   ]
  },
  {
   "cell_type": "markdown",
   "metadata": {},
   "source": []
  },
  {
   "cell_type": "code",
   "execution_count": 23,
   "metadata": {},
   "outputs": [],
   "source": [
    "BATCH_SIZE = 16\n",
    "NUM_EPOCHS = 1\n",
    "EVAL_STEPS = 1000\n",
    "WARMUP_STEPS = int(len(triple_list_mini) // BATCH_SIZE * 0.1) "
   ]
  }
 ],
 "metadata": {
  "interpreter": {
   "hash": "3b768359a65658dcda07a01f9fcd77d023c140b301dc2847ae2491657ec52602"
  },
  "kernelspec": {
   "display_name": "Python 3.8.8 ('twitchAI-AEfI_JA6')",
   "language": "python",
   "name": "python3"
  },
  "language_info": {
   "codemirror_mode": {
    "name": "ipython",
    "version": 3
   },
   "file_extension": ".py",
   "mimetype": "text/x-python",
   "name": "python",
   "nbconvert_exporter": "python",
   "pygments_lexer": "ipython3",
   "version": "3.8.8"
  },
  "orig_nbformat": 4
 },
 "nbformat": 4,
 "nbformat_minor": 2
}
