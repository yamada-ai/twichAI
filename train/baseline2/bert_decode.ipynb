{
 "cells": [
  {
   "cell_type": "markdown",
   "metadata": {},
   "source": [
    "# 試み\n",
    "###  sentence-BERT => Decoder の連結でどうにかならんか\n",
    "- 心配なのはベクトル"
   ]
  },
  {
   "cell_type": "code",
   "execution_count": 1,
   "metadata": {},
   "outputs": [
    {
     "name": "stderr",
     "output_type": "stream",
     "text": [
      "/home/yamada/.local/share/virtualenvs/twitchAI-AEfI_JA6/lib/python3.8/site-packages/tqdm/auto.py:22: TqdmWarning: IProgress not found. Please update jupyter and ipywidgets. See https://ipywidgets.readthedocs.io/en/stable/user_install.html\n",
      "  from .autonotebook import tqdm as notebook_tqdm\n"
     ]
    }
   ],
   "source": [
    "import sys\n",
    "sys.path.append(\"../\")\n",
    "from datatools.analyzer import *"
   ]
  },
  {
   "cell_type": "code",
   "execution_count": 2,
   "metadata": {},
   "outputs": [],
   "source": [
    "# from sentence_transformers import SentenceTransformer\n",
    "# bert_path = \"../../corpus/pretrained/sbert_coherence\"\n",
    "# sbert = SentenceTransformer(bert_path)"
   ]
  },
  {
   "cell_type": "code",
   "execution_count": 3,
   "metadata": {},
   "outputs": [],
   "source": [
    "from transformer_base import *"
   ]
  },
  {
   "cell_type": "code",
   "execution_count": 4,
   "metadata": {},
   "outputs": [],
   "source": [
    "out_path = \"../../corpus/novel_formated/\"\n",
    "# corpus_name = \"novel_segments.tsv\"\n",
    "corpus_name = \"ntt_segment_plain2.tsv\"\n",
    "\n",
    "import csv\n",
    "conv_data = []\n",
    "with open(out_path+corpus_name, \"r\") as f:\n",
    "    reader = csv.reader(f, delimiter=\"\\t\")\n",
    "    conv_data = [row for row in reader]"
   ]
  },
  {
   "cell_type": "code",
   "execution_count": 5,
   "metadata": {},
   "outputs": [],
   "source": [
    "lim=1000\n",
    "import random\n",
    "random.seed(0)\n",
    "conv_data_mini = random.sample(conv_data, lim)"
   ]
  },
  {
   "cell_type": "code",
   "execution_count": 6,
   "metadata": {},
   "outputs": [],
   "source": [
    "def make_Src_Tgt(conv_data):\n",
    "    src_str = []\n",
    "    tgt_str = []\n",
    "\n",
    "    for conv in conv_data:\n",
    "        src_str.append(conv[0])\n",
    "        tgt_str.append(conv[1])\n",
    "    return src_str, tgt_str\n",
    "\n",
    "src_str, tgt_str = make_Src_Tgt(conv_data_mini)"
   ]
  },
  {
   "cell_type": "code",
   "execution_count": 7,
   "metadata": {},
   "outputs": [],
   "source": [
    "from collections import Counter\n",
    "from torchtext.vocab import Vocab\n",
    "\n",
    "def build_vocab(texts, tokenizer):\n",
    "    \n",
    "    counter = Counter()\n",
    "    for text in tqdm(texts):\n",
    "        counter.update(tokenizer(text))\n",
    "    return Vocab(counter, specials=['<unk>', '<pad>','<fos>', '<eos>', '<del>'])"
   ]
  },
  {
   "cell_type": "code",
   "execution_count": 8,
   "metadata": {},
   "outputs": [
    {
     "name": "stdout",
     "output_type": "stream",
     "text": [
      "len=> src_train_val:800, src_test:200\n",
      "len=> src_train:720, src_val:80\n"
     ]
    }
   ],
   "source": [
    "src_trainval_str, src_test_str, tgt_trainval_str, tgt_test_str= train_test_split(src_str, tgt_str, test_size=0.20, random_state=5)\n",
    "print(\"len=> src_train_val:{0}, src_test:{1}\".format(len(src_trainval_str), len(src_test_str)))\n",
    "\n",
    "src_train_str, src_val_str, tgt_train_str, tgt_val_str= train_test_split(src_trainval_str, tgt_trainval_str, test_size=0.10, random_state=5)\n",
    "\n",
    "print(\"len=> src_train:{0}, src_val:{1}\".format(len(src_train_str), len(src_val_str)))\n",
    "\n",
    "src_train_str_ = src_train_str[:lim]\n",
    "tgt_train_str_ = tgt_train_str[:lim]\n",
    "src_val_str_ = src_val_str[:lim//10]\n",
    "tgt_val_str_ = tgt_val_str[:lim//10]"
   ]
  },
  {
   "cell_type": "code",
   "execution_count": 9,
   "metadata": {},
   "outputs": [
    {
     "name": "stderr",
     "output_type": "stream",
     "text": [
      "100%|██████████| 720/720 [00:00<00:00, 17880.02it/s]\n",
      "100%|██████████| 720/720 [00:00<00:00, 31318.63it/s]\n"
     ]
    }
   ],
   "source": [
    "tokenizer_src = mecab_tokenize\n",
    "tokenizer_tgt = mecab_tokenize\n",
    "\n",
    "vocab_src = build_vocab(src_train_str_, tokenizer=tokenizer_src)\n",
    "vocab_tgt = build_vocab(tgt_train_str_, tokenizer=tokenizer_tgt)"
   ]
  },
  {
   "cell_type": "code",
   "execution_count": 10,
   "metadata": {},
   "outputs": [
    {
     "name": "stderr",
     "output_type": "stream",
     "text": [
      "[595] 2022-06-17 19:27:06,394 Info sentence_transformers.SentenceTransformer :Load pretrained SentenceTransformer: ../../corpus/pretrained/sbert_coherence\n",
      "[595] 2022-06-17 19:27:07,200 Info sentence_transformers.SentenceTransformer :Use pytorch device: cuda\n"
     ]
    }
   ],
   "source": [
    "# from sentence_transformers import SentenceTransformer\n",
    "# from sentence_transformers import models\n",
    "\n",
    "# download_path = \"../../corpus/\"\n",
    "# # download_path = \"\"\n",
    "# transformer = models.Transformer(download_path+'cl-tohoku/bert-base-japanese-whole-word-masking')\n",
    "# pooling = models.Pooling(transformer.get_word_embedding_dimension(),    \n",
    "#   pooling_mode_mean_tokens=True,\n",
    "#   pooling_mode_cls_token=False, \n",
    "#   pooling_mode_max_tokens=False\n",
    "# )\n",
    "# model = SentenceTransformer(modules=[transformer, pooling])\n",
    "\n",
    "# sentences = ['吾輩は猫である',  '本日は晴天なり']\n",
    "# embeddings = model.encode(sentences)\n",
    "\n",
    "# for i, embedding in enumerate(embeddings):\n",
    "#   print(\"[%d] : %s\" % (i, embedding.shape, ))\n",
    "\n",
    "from sentence_transformers import SentenceTransformer\n",
    "# from sentence_transformers import models\n",
    "\n",
    "# bert_path = \"../../corpus/pretrained/sbert_unclear1\"\n",
    "bert_path = \"../../corpus/pretrained/sbert_coherence\"\n",
    "sbert = SentenceTransformer(bert_path)"
   ]
  },
  {
   "cell_type": "code",
   "execution_count": 11,
   "metadata": {},
   "outputs": [],
   "source": [
    "def data_process(texts_src, texts_tgt, vocab_src, vocab_tgt, tokenizer_src, tokenizer_tgt):\n",
    "    \n",
    "    data = []\n",
    "    src_vec = sbert.encode(texts_src)\n",
    "    for (src, tgt) in zip(src_vec, texts_tgt):\n",
    "        # src_tensor = torch.tensor(\n",
    "        #     convert_text_to_indexes(text=src, vocab=vocab_src, tokenizer=tokenizer_src),\n",
    "        #     dtype=torch.long\n",
    "        # )\n",
    "        tgt_tensor = torch.tensor(\n",
    "            convert_text_to_indexes(text=tgt, vocab=vocab_tgt, tokenizer=tokenizer_tgt),\n",
    "            dtype=torch.long\n",
    "        )\n",
    "        data.append((torch.tensor(src) , tgt_tensor))\n",
    "        \n",
    "    return data\n",
    "\n",
    "def convert_text_to_indexes(text, vocab, tokenizer):\n",
    "    return [vocab['<fos>']] + [\n",
    "        vocab[token] for token in tokenizer(text.strip(\"\\n\"))\n",
    "    ] + [vocab['<eos>']]"
   ]
  },
  {
   "cell_type": "code",
   "execution_count": 12,
   "metadata": {},
   "outputs": [
    {
     "name": "stderr",
     "output_type": "stream",
     "text": [
      "Batches: 100%|██████████| 23/23 [00:01<00:00, 11.97it/s]\n",
      "Batches: 100%|██████████| 3/3 [00:00<00:00, 12.09it/s]\n"
     ]
    }
   ],
   "source": [
    "train_data = data_process(\n",
    "    texts_src=src_train_str_, texts_tgt=tgt_train_str_,\n",
    "    vocab_src=vocab_src, vocab_tgt=vocab_tgt,\n",
    "    tokenizer_src=tokenizer_src, tokenizer_tgt=tokenizer_tgt\n",
    ")\n",
    "valid_data = data_process(\n",
    "    texts_src=src_val_str_, texts_tgt=tgt_val_str_,\n",
    "    vocab_src=vocab_src, vocab_tgt=vocab_tgt,\n",
    "    tokenizer_src=tokenizer_src, tokenizer_tgt=tokenizer_tgt\n",
    ")"
   ]
  },
  {
   "cell_type": "code",
   "execution_count": 22,
   "metadata": {},
   "outputs": [],
   "source": [
    "batch_size = 32\n",
    "PAD_IDX = vocab_src['<pad>']\n",
    "START_IDX = vocab_src['<fos>']\n",
    "END_IDX = vocab_src['<eos>']"
   ]
  },
  {
   "cell_type": "code",
   "execution_count": 23,
   "metadata": {},
   "outputs": [],
   "source": [
    "def generate_batch(data_batch):\n",
    "    \n",
    "    batch_src, batch_tgt = [], []\n",
    "    for src, tgt in data_batch:\n",
    "        batch_src.append(src)\n",
    "        batch_tgt.append(tgt)\n",
    "        \n",
    "    # batch_src = pad_sequence(batch_src, padding_value=PAD_IDX, batch_first=True)\n",
    "    # batch_tgt = pad_sequence(batch_tgt, padding_value=PAD_IDX, batch_first=True)\n",
    "    batch_src = pad_sequence(batch_src, padding_value=PAD_IDX, batch_first=False)\n",
    "    batch_tgt = pad_sequence(batch_tgt, padding_value=PAD_IDX, batch_first=False)\n",
    "    \n",
    "    return batch_src, batch_tgt"
   ]
  },
  {
   "cell_type": "code",
   "execution_count": 24,
   "metadata": {},
   "outputs": [],
   "source": [
    "train_iter = DataLoader(train_data, batch_size=batch_size, shuffle=True, collate_fn=generate_batch)\n",
    "valid_iter = DataLoader(valid_data, batch_size=batch_size, shuffle=True, collate_fn=generate_batch)"
   ]
  },
  {
   "cell_type": "code",
   "execution_count": 13,
   "metadata": {},
   "outputs": [],
   "source": [
    "import torch\n",
    "import torch.nn as nn\n",
    "from torch import Tensor\n",
    "from torch.nn import (\n",
    "    TransformerEncoder, TransformerDecoder,\n",
    "    TransformerEncoderLayer, TransformerDecoderLayer\n",
    ")\n",
    "from torch.nn.utils.rnn import pad_sequence\n",
    "from torch.utils.data import DataLoader\n",
    "\n",
    "import torch.nn.functional as F\n",
    "from torch.nn.modules import loss\n",
    "import torch.optim as optim\n",
    "import torch.nn.utils.rnn as rnn\n",
    "\n",
    "import math\n",
    "class TokenEmbedding(nn.Module):\n",
    "    \n",
    "    def __init__(self, vocab_size, embedding_size):\n",
    "        \n",
    "        super(TokenEmbedding, self).__init__()\n",
    "        self.embedding = nn.Embedding(vocab_size, embedding_size, padding_idx=PAD_IDX)\n",
    "        self.embedding_size = embedding_size\n",
    "        \n",
    "    def forward(self, tokens: Tensor):\n",
    "        return self.embedding(tokens.long()) * math.sqrt(self.embedding_size)\n",
    "\n",
    "class DecoderForBERT(nn.Module):\n",
    "    \n",
    "    # 予めembeddingしたsrcを入力\n",
    "    def __init__(\n",
    "        self,\n",
    "        num_decoder_layers: int,\n",
    "        embedding_size: int, vocab_size_tgt: int, \n",
    "        dim_feedforward:int = 512, dropout:float = 0.1, nhead:int = 8\n",
    "        ):\n",
    "\n",
    "        self.positional_encoding = PositionalEncoding(embedding_size, dropout=dropout)\n",
    "        self.token_embedding_tgt = TokenEmbedding(vocab_size_tgt, embedding_size)\n",
    "        # デコーダーを定義\n",
    "        decoder_layer = TransformerDecoderLayer(\n",
    "            d_model=embedding_size, nhead=nhead, dim_feedforward=dim_feedforward\n",
    "        )\n",
    "        self.transformer_decoder = TransformerDecoder(decoder_layer, num_layers=num_decoder_layers)\n",
    "\n",
    "        self.output = nn.Linear(embedding_size, vocab_size_tgt)\n",
    "    \n",
    "    def forward(\n",
    "        self, src: Tensor, tgt: Tensor,\n",
    "        mask_tgt: Tensor, padding_mask_tgt: Tensor,\n",
    "        memory_key_padding_mask: Tensor\n",
    "        ):\n",
    "\n",
    "        embedding_tgt = self.positional_encoding(self.token_embedding_tgt(tgt))\n",
    "\n",
    "        outs = self.transformer_decoder(\n",
    "            embedding_tgt, src, mask_tgt, None,\n",
    "            padding_mask_tgt, memory_key_padding_mask\n",
    "        )\n",
    "\n",
    "        return self.output(outs)\n",
    "\n"
   ]
  },
  {
   "cell_type": "code",
   "execution_count": 27,
   "metadata": {},
   "outputs": [
    {
     "data": {
      "text/plain": [
       "tensor([[0., -inf, -inf, -inf, -inf],\n",
       "        [0., 0., -inf, -inf, -inf],\n",
       "        [0., 0., 0., -inf, -inf],\n",
       "        [0., 0., 0., 0., -inf],\n",
       "        [0., 0., 0., 0., 0.]], device='cuda:0')"
      ]
     },
     "execution_count": 27,
     "metadata": {},
     "output_type": "execute_result"
    }
   ],
   "source": [
    "def create_mask_tgt(tgt, PAD_IDX):\n",
    "    \n",
    "    seq_len_tgt = tgt.shape[0]\n",
    "\n",
    "    mask_tgt = generate_square_subsequent_mask(seq_len_tgt)\n",
    "\n",
    "    padding_mask_tgt = (tgt == PAD_IDX).transpose(0, 1)\n",
    "    \n",
    "    return mask_tgt, padding_mask_tgt\n",
    "\n",
    "def train(model, data, optimizer, criterion, PAD_IDX):\n",
    "    \n",
    "    model.train()\n",
    "    losses = 0\n",
    "    for src, tgt in tqdm(data):\n",
    "        \n",
    "        src = src.to(device)\n",
    "        tgt = tgt.to(device)\n",
    "\n",
    "        input_tgt = tgt[:-1, :]\n",
    "\n",
    "        # mask_src, mask_tgt, padding_mask_src, padding_mask_tgt = create_mask(src, input_tgt, PAD_IDX)\n",
    "        mask_tgt, padding_mask_tgt = create_mask_tgt(tgt, PAD_IDX)\n",
    "        # print(src.shape, tgt.shape)\n",
    "\n",
    "        logits = model(\n",
    "            src=src, tgt=input_tgt,\n",
    "            mask_tgt=mask_tgt, padding_mask_tgt=padding_mask_tgt,\n",
    "            memory_key_padding_mask=padding_mask_src\n",
    "        )\n",
    "\n",
    "        optimizer.zero_grad()\n",
    "\n",
    "        output_tgt = tgt[1:, :]\n",
    "        loss = criterion(logits.reshape(-1, logits.shape[-1]), output_tgt.reshape(-1))\n",
    "        loss.backward()\n",
    "\n",
    "        optimizer.step()\n",
    "        losses += loss.item()\n",
    "\n",
    "        del src\n",
    "        del tgt\n",
    "        del logits\n",
    "        del loss\n",
    "        \n",
    "    return losses / len(data)\n",
    "\n",
    "\n",
    "def evaluate(model, data, criterion, PAD_IDX):\n",
    "    \n",
    "    model.eval()\n",
    "    losses = 0\n",
    "    for src, tgt in data:\n",
    "        \n",
    "        src = src.to(device)\n",
    "        tgt = tgt.to(device)\n",
    "\n",
    "        input_tgt = tgt[:-1, :]\n",
    "\n",
    "        mask_src, mask_tgt, padding_mask_src, padding_mask_tgt = create_mask(src, input_tgt, PAD_IDX)\n",
    "\n",
    "        logits = model(\n",
    "            src=src, tgt=input_tgt,\n",
    "            mask_src=mask_src, mask_tgt=mask_tgt,\n",
    "            padding_mask_src=padding_mask_src, padding_mask_tgt=padding_mask_tgt,\n",
    "            memory_key_padding_mask=padding_mask_src\n",
    "        )\n",
    "        \n",
    "        output_tgt = tgt[1:, :]\n",
    "        loss = criterion(logits.reshape(-1, logits.shape[-1]), output_tgt.reshape(-1))\n",
    "        losses += loss.item()\n",
    "        \n",
    "    return losses / len(data)"
   ]
  },
  {
   "cell_type": "code",
   "execution_count": null,
   "metadata": {},
   "outputs": [],
   "source": [
    "vocab_size_src = len(vocab_src)\n",
    "vocab_size_tgt = len(vocab_tgt)\n",
    "embedding_size = 768\n",
    "nhead = 8\n",
    "dim_feedforward = 768\n",
    "num_encoder_layers = 2\n",
    "num_decoder_layers = 4\n",
    "dropout = 0.1\n",
    "\n",
    "model = DecoderForBERT(\n",
    "    num_decoder_layers=num_decoder_layers,\n",
    "    embedding_size=embedding_size,\n",
    "    vocab_size_src=vocab_size_src, vocab_size_tgt=vocab_size_tgt,\n",
    "    dim_feedforward=dim_feedforward,\n",
    "    dropout=dropout, nhead=nhead\n",
    ")\n",
    "\n",
    "for p in model.parameters():\n",
    "    if p.dim() > 1:\n",
    "        nn.init.xavier_uniform_(p)\n",
    "\n",
    "model = model.to(device)\n",
    "\n",
    "criterion = torch.nn.CrossEntropyLoss(ignore_index=PAD_IDX)\n",
    "\n",
    "optimizer = torch.optim.Adam(model.parameters())"
   ]
  },
  {
   "cell_type": "code",
   "execution_count": null,
   "metadata": {},
   "outputs": [],
   "source": [
    "import time\n",
    "\n",
    "epoch = 30\n",
    "best_loss = float('Inf')\n",
    "best_model = None\n",
    "patience = 10\n",
    "counter = 0\n",
    "\n",
    "for loop in range(1, epoch + 1):\n",
    "    \n",
    "    start_time = time.time()\n",
    "    \n",
    "    loss_train = train(\n",
    "        model=model, data=train_iter, optimizer=optimizer,\n",
    "        criterion=criterion, PAD_IDX=PAD_IDX\n",
    "    )\n",
    "    \n",
    "    elapsed_time = time.time() - start_time\n",
    "    \n",
    "    loss_valid = evaluate(\n",
    "        model=model, data=valid_iter, criterion=criterion, PAD_IDX=PAD_IDX\n",
    "    )\n",
    "    \n",
    "    print('[{}/{}] train loss: {:.2f}, valid loss: {:.2f}  [{}{:.0f}s] count: {}, {}'.format(\n",
    "        loop, epoch,\n",
    "        loss_train, loss_valid,\n",
    "        str(int(math.floor(elapsed_time / 60))) + 'm' if math.floor(elapsed_time / 60) > 0 else '',\n",
    "        elapsed_time % 60,\n",
    "        counter,\n",
    "        '**' if best_loss > loss_valid else ''\n",
    "    ))\n",
    "    \n",
    "    if best_loss > loss_valid:\n",
    "        best_loss = loss_valid\n",
    "        best_model = model\n",
    "        counter = 0\n",
    "        \n",
    "    if counter > patience:\n",
    "        break\n",
    "    \n",
    "    counter += 1"
   ]
  }
 ],
 "metadata": {
  "interpreter": {
   "hash": "3b768359a65658dcda07a01f9fcd77d023c140b301dc2847ae2491657ec52602"
  },
  "kernelspec": {
   "display_name": "Python 3.8.8 ('twitchAI-AEfI_JA6')",
   "language": "python",
   "name": "python3"
  },
  "language_info": {
   "codemirror_mode": {
    "name": "ipython",
    "version": 3
   },
   "file_extension": ".py",
   "mimetype": "text/x-python",
   "name": "python",
   "nbconvert_exporter": "python",
   "pygments_lexer": "ipython3",
   "version": "3.8.8"
  },
  "orig_nbformat": 4
 },
 "nbformat": 4,
 "nbformat_minor": 2
}
